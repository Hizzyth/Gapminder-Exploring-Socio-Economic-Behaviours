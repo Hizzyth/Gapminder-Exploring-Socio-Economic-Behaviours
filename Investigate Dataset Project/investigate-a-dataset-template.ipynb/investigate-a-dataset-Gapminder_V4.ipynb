{
 "cells": [
  {
   "cell_type": "markdown",
   "metadata": {},
   "source": [
    "# Gapminder: Exploring Socio-Economic Behaviours\n",
    "\n",
    "## Table of Contents\n",
    "<ul>\n",
    "<li><a href=\"#intro\">Introduction</a></li>\n",
    "<li><a href=\"#wrangling\">Data Wrangling</a></li>\n",
    "<li><a href=\"#eda\">Exploratory Data Analysis</a></li>\n",
    "<li><a href=\"#conclusions\">Conclusions</a></li>\n",
    "</ul>"
   ]
  },
  {
   "cell_type": "markdown",
   "metadata": {},
   "source": [
    "<a id='intro'></a>\n",
    "## Introduction\n",
    "\n",
    "I first came across Gapminder in 2010 when I checked out Hans Rosling's TED talk \"The seemingly impossible is possible\". Watching that talk changed the way I looked at data ever since that day. <br>\n",
    "\n",
    "This project is split into 2 very different topics: <br>\n",
    "Case-1:  __Oil Economics__ ( Reservoir Size, Production, Consumption and Gross Net Income Trends)<br>\n",
    "Case-2:  __Smoking Behaviours__ among different society classes.<br>\n",
    "\n",
    "For the __Case-1__, I will explore:<br>\n",
    "1. Which nations are top consumers, producers and owners of proven oil reservoirs?<br>\n",
    "2. Distribution of consumption ratio (Consume/Produce) with production trends. <br>\n",
    "3. How nations Gross Net Income (GNI)based on their consumption trend (exporter/importer)?<br>\n",
    "\n",
    "For the __Case-2__, I will explore:<br>\n",
    "1. Comparision between female and male smokers across all countries.<br>\n",
    "2. How does the smoking population split among various groups of society (lower,lower_middle,lower_upper,higher)<br>\n",
    "3. Relationships between per capita income and smoking behaviours<br>\n",
    "4. Does life expectancy changes with income, if yes then how big is gap among lowest and highest classes?<br>\n",
    "\n"
   ]
  },
  {
   "cell_type": "code",
   "execution_count": 79,
   "metadata": {},
   "outputs": [],
   "source": [
    "# Importing libraries to be used\n",
    "%matplotlib inline\n",
    "\n",
    "import pandas as pd\n",
    "import numpy as np\n",
    "import matplotlib.pyplot as plt\n",
    "import seaborn as sns"
   ]
  },
  {
   "cell_type": "markdown",
   "metadata": {},
   "source": [
    "<a id='wrangling'></a>\n",
    "# Data Wrangling\n",
    "\n",
    "\n",
    "## General Properties"
   ]
  },
  {
   "cell_type": "markdown",
   "metadata": {},
   "source": [
    "### Loading the excel files"
   ]
  },
  {
   "cell_type": "markdown",
   "metadata": {},
   "source": [
    "All excel files are loaded using pandas 'read_excel' version. Short notes are provided at end of each line providing context of data."
   ]
  },
  {
   "cell_type": "code",
   "execution_count": 80,
   "metadata": {},
   "outputs": [],
   "source": [
    "# Load the data\n",
    "oil_prod = pd.read_excel('Oil Production.xlsx', sheet_name = 'Data') #total production of oil\n",
    "oil_proven = pd.read_excel('Oil Proved reserves.xlsx',sheet_name = 'Data') # total proven reserves of oil\n",
    "oil_consume = pd.read_excel('Oil Consumption.xlsx',sheet_name = 'Data') #consumtion of oil\n",
    "gni = pd.read_excel('indicatorGNItotalPPP.xlsx',sheet_name = 'Data') # Total gross net income converted to international dollars using purchasing power parity rates.\n",
    "gnipc =pd.read_excel('indicatorGNIpercapitaATLAS.xlsx',sheet_name = 'Data') # Gross net income per capita, Atlas method (current US$) \n",
    "life_exp = pd.read_excel('indicator life_expectancy_at_birth.xlsx',sheet_name = 'Data') # Life expectancy in years\n",
    "smk_female = pd.read_excel ('indicator_prevalence of current tobacco use among adults (%) female.xlsx',sheet_name = 'Data') #female smokers in %\n",
    "smk_male = pd.read_excel ('indicator_prevalence of current tobacco use among adults (%) male.xlsx',sheet_name = 'Data') #male smokers in %               "
   ]
  },
  {
   "cell_type": "markdown",
   "metadata": {},
   "source": [
    "\n",
    "### Exploring the data and its properties prior to cleaning"
   ]
  },
  {
   "cell_type": "markdown",
   "metadata": {},
   "source": [
    "##  Case-1: Oil Reservoir,Production & Consumption trends. Also how GNI of oil producing nations appears."
   ]
  },
  {
   "cell_type": "markdown",
   "metadata": {},
   "source": [
    "#### Utilizing the head, info, dtypes and histograms to get a good idea of dataset and plan accordingly for cleaning the data."
   ]
  },
  {
   "cell_type": "code",
   "execution_count": 81,
   "metadata": {},
   "outputs": [
    {
     "data": {
      "text/html": [
       "<div>\n",
       "<style scoped>\n",
       "    .dataframe tbody tr th:only-of-type {\n",
       "        vertical-align: middle;\n",
       "    }\n",
       "\n",
       "    .dataframe tbody tr th {\n",
       "        vertical-align: top;\n",
       "    }\n",
       "\n",
       "    .dataframe thead th {\n",
       "        text-align: right;\n",
       "    }\n",
       "</style>\n",
       "<table border=\"1\" class=\"dataframe\">\n",
       "  <thead>\n",
       "    <tr style=\"text-align: right;\">\n",
       "      <th></th>\n",
       "      <th>Crude oil production, total (toe)</th>\n",
       "      <th>1965</th>\n",
       "      <th>1966</th>\n",
       "      <th>1967</th>\n",
       "      <th>1968</th>\n",
       "      <th>1969</th>\n",
       "      <th>1970</th>\n",
       "      <th>1971</th>\n",
       "      <th>1972</th>\n",
       "      <th>1973</th>\n",
       "      <th>...</th>\n",
       "      <th>2002</th>\n",
       "      <th>2003</th>\n",
       "      <th>2004</th>\n",
       "      <th>2005</th>\n",
       "      <th>2006</th>\n",
       "      <th>2007</th>\n",
       "      <th>2008</th>\n",
       "      <th>2009</th>\n",
       "      <th>2010</th>\n",
       "      <th>2011</th>\n",
       "    </tr>\n",
       "  </thead>\n",
       "  <tbody>\n",
       "    <tr>\n",
       "      <th>0</th>\n",
       "      <td>Abkhazia</td>\n",
       "      <td>NaN</td>\n",
       "      <td>NaN</td>\n",
       "      <td>NaN</td>\n",
       "      <td>NaN</td>\n",
       "      <td>NaN</td>\n",
       "      <td>NaN</td>\n",
       "      <td>NaN</td>\n",
       "      <td>NaN</td>\n",
       "      <td>NaN</td>\n",
       "      <td>...</td>\n",
       "      <td>NaN</td>\n",
       "      <td>NaN</td>\n",
       "      <td>NaN</td>\n",
       "      <td>NaN</td>\n",
       "      <td>NaN</td>\n",
       "      <td>NaN</td>\n",
       "      <td>NaN</td>\n",
       "      <td>NaN</td>\n",
       "      <td>NaN</td>\n",
       "      <td>NaN</td>\n",
       "    </tr>\n",
       "    <tr>\n",
       "      <th>1</th>\n",
       "      <td>Afghanistan</td>\n",
       "      <td>NaN</td>\n",
       "      <td>NaN</td>\n",
       "      <td>NaN</td>\n",
       "      <td>NaN</td>\n",
       "      <td>NaN</td>\n",
       "      <td>NaN</td>\n",
       "      <td>NaN</td>\n",
       "      <td>NaN</td>\n",
       "      <td>NaN</td>\n",
       "      <td>...</td>\n",
       "      <td>NaN</td>\n",
       "      <td>NaN</td>\n",
       "      <td>NaN</td>\n",
       "      <td>NaN</td>\n",
       "      <td>NaN</td>\n",
       "      <td>NaN</td>\n",
       "      <td>NaN</td>\n",
       "      <td>NaN</td>\n",
       "      <td>NaN</td>\n",
       "      <td>NaN</td>\n",
       "    </tr>\n",
       "    <tr>\n",
       "      <th>2</th>\n",
       "      <td>Akrotiri and Dhekelia</td>\n",
       "      <td>NaN</td>\n",
       "      <td>NaN</td>\n",
       "      <td>NaN</td>\n",
       "      <td>NaN</td>\n",
       "      <td>NaN</td>\n",
       "      <td>NaN</td>\n",
       "      <td>NaN</td>\n",
       "      <td>NaN</td>\n",
       "      <td>NaN</td>\n",
       "      <td>...</td>\n",
       "      <td>NaN</td>\n",
       "      <td>NaN</td>\n",
       "      <td>NaN</td>\n",
       "      <td>NaN</td>\n",
       "      <td>NaN</td>\n",
       "      <td>NaN</td>\n",
       "      <td>NaN</td>\n",
       "      <td>NaN</td>\n",
       "      <td>NaN</td>\n",
       "      <td>NaN</td>\n",
       "    </tr>\n",
       "    <tr>\n",
       "      <th>3</th>\n",
       "      <td>Albania</td>\n",
       "      <td>NaN</td>\n",
       "      <td>NaN</td>\n",
       "      <td>NaN</td>\n",
       "      <td>NaN</td>\n",
       "      <td>NaN</td>\n",
       "      <td>NaN</td>\n",
       "      <td>NaN</td>\n",
       "      <td>NaN</td>\n",
       "      <td>NaN</td>\n",
       "      <td>...</td>\n",
       "      <td>NaN</td>\n",
       "      <td>NaN</td>\n",
       "      <td>NaN</td>\n",
       "      <td>NaN</td>\n",
       "      <td>NaN</td>\n",
       "      <td>NaN</td>\n",
       "      <td>NaN</td>\n",
       "      <td>NaN</td>\n",
       "      <td>NaN</td>\n",
       "      <td>NaN</td>\n",
       "    </tr>\n",
       "    <tr>\n",
       "      <th>4</th>\n",
       "      <td>Algeria</td>\n",
       "      <td>26481000.0</td>\n",
       "      <td>33872000.0</td>\n",
       "      <td>39076000.0</td>\n",
       "      <td>42904000.0</td>\n",
       "      <td>44784000.0</td>\n",
       "      <td>48208000.0</td>\n",
       "      <td>37099000.0</td>\n",
       "      <td>50098000.0</td>\n",
       "      <td>50888000.0</td>\n",
       "      <td>...</td>\n",
       "      <td>70894000.0</td>\n",
       "      <td>79005000.0</td>\n",
       "      <td>83551000.0</td>\n",
       "      <td>86437670.0</td>\n",
       "      <td>86202000.0</td>\n",
       "      <td>86482000.0</td>\n",
       "      <td>8.562018e+07</td>\n",
       "      <td>7.784691e+07</td>\n",
       "      <td>7.550114e+07</td>\n",
       "      <td>7.431146e+07</td>\n",
       "    </tr>\n",
       "  </tbody>\n",
       "</table>\n",
       "<p>5 rows × 48 columns</p>\n",
       "</div>"
      ],
      "text/plain": [
       "  Crude oil production, total (toe)        1965        1966        1967  \\\n",
       "0                          Abkhazia         NaN         NaN         NaN   \n",
       "1                       Afghanistan         NaN         NaN         NaN   \n",
       "2             Akrotiri and Dhekelia         NaN         NaN         NaN   \n",
       "3                           Albania         NaN         NaN         NaN   \n",
       "4                           Algeria  26481000.0  33872000.0  39076000.0   \n",
       "\n",
       "         1968        1969        1970        1971        1972        1973  \\\n",
       "0         NaN         NaN         NaN         NaN         NaN         NaN   \n",
       "1         NaN         NaN         NaN         NaN         NaN         NaN   \n",
       "2         NaN         NaN         NaN         NaN         NaN         NaN   \n",
       "3         NaN         NaN         NaN         NaN         NaN         NaN   \n",
       "4  42904000.0  44784000.0  48208000.0  37099000.0  50098000.0  50888000.0   \n",
       "\n",
       "       ...             2002        2003        2004        2005        2006  \\\n",
       "0      ...              NaN         NaN         NaN         NaN         NaN   \n",
       "1      ...              NaN         NaN         NaN         NaN         NaN   \n",
       "2      ...              NaN         NaN         NaN         NaN         NaN   \n",
       "3      ...              NaN         NaN         NaN         NaN         NaN   \n",
       "4      ...       70894000.0  79005000.0  83551000.0  86437670.0  86202000.0   \n",
       "\n",
       "         2007          2008          2009          2010          2011  \n",
       "0         NaN           NaN           NaN           NaN           NaN  \n",
       "1         NaN           NaN           NaN           NaN           NaN  \n",
       "2         NaN           NaN           NaN           NaN           NaN  \n",
       "3         NaN           NaN           NaN           NaN           NaN  \n",
       "4  86482000.0  8.562018e+07  7.784691e+07  7.550114e+07  7.431146e+07  \n",
       "\n",
       "[5 rows x 48 columns]"
      ]
     },
     "execution_count": 81,
     "metadata": {},
     "output_type": "execute_result"
    }
   ],
   "source": [
    "# Checking the first 5 rows for each dataset\n",
    "oil_prod.head()\n",
    "# Expected to see a lot of null values, as many countries are not oil producers"
   ]
  },
  {
   "cell_type": "markdown",
   "metadata": {},
   "source": [
    "#### Since all the files have 1st column named with file description, replacing the column 1 name with country name"
   ]
  },
  {
   "cell_type": "code",
   "execution_count": 82,
   "metadata": {},
   "outputs": [],
   "source": [
    "#Replacing the column 1 name with country name\n",
    "oil_prod = oil_prod.rename(columns={oil_prod.columns[0]: 'Country'}) \n",
    "oil_proven = oil_proven.rename(columns={oil_proven.columns[0]: 'Country'}) \n",
    "oil_consume = oil_consume.rename(columns={oil_consume.columns[0]: 'Country'}) \n",
    "gni = gni.rename(columns={gni.columns[0]: 'Country'}) "
   ]
  },
  {
   "cell_type": "markdown",
   "metadata": {},
   "source": [
    "Checking the data types and empty cells for each column"
   ]
  },
  {
   "cell_type": "code",
   "execution_count": 83,
   "metadata": {},
   "outputs": [
    {
     "name": "stdout",
     "output_type": "stream",
     "text": [
      "<class 'pandas.core.frame.DataFrame'>\n",
      "RangeIndex: 275 entries, 0 to 274\n",
      "Data columns (total 48 columns):\n",
      "Country    275 non-null object\n",
      "1965       36 non-null float64\n",
      "1966       37 non-null float64\n",
      "1967       37 non-null float64\n",
      "1968       39 non-null float64\n",
      "1969       39 non-null float64\n",
      "1970       39 non-null float64\n",
      "1971       40 non-null float64\n",
      "1972       42 non-null float64\n",
      "1973       42 non-null float64\n",
      "1974       42 non-null float64\n",
      "1975       42 non-null float64\n",
      "1976       42 non-null float64\n",
      "1977       42 non-null float64\n",
      "1978       42 non-null float64\n",
      "1979       42 non-null float64\n",
      "1980       42 non-null float64\n",
      "1981       43 non-null float64\n",
      "1982       43 non-null float64\n",
      "1983       43 non-null float64\n",
      "1984       43 non-null float64\n",
      "1985       43 non-null float64\n",
      "1986       44 non-null float64\n",
      "1987       45 non-null float64\n",
      "1988       45 non-null float64\n",
      "1989       45 non-null float64\n",
      "1990       45 non-null float64\n",
      "1991       45 non-null float64\n",
      "1992       46 non-null float64\n",
      "1993       47 non-null float64\n",
      "1994       47 non-null float64\n",
      "1995       47 non-null float64\n",
      "1996       47 non-null float64\n",
      "1997       47 non-null float64\n",
      "1998       47 non-null float64\n",
      "1999       47 non-null float64\n",
      "2000       47 non-null float64\n",
      "2001       47 non-null float64\n",
      "2002       47 non-null float64\n",
      "2003       48 non-null float64\n",
      "2004       48 non-null float64\n",
      "2005       48 non-null float64\n",
      "2006       48 non-null float64\n",
      "2007       48 non-null float64\n",
      "2008       48 non-null float64\n",
      "2009       48 non-null float64\n",
      "2010       48 non-null float64\n",
      "2011       48 non-null float64\n",
      "dtypes: float64(47), object(1)\n",
      "memory usage: 103.2+ KB\n"
     ]
    }
   ],
   "source": [
    "oil_prod.info()"
   ]
  },
  {
   "cell_type": "markdown",
   "metadata": {},
   "source": [
    "Quick view histogram analysis"
   ]
  },
  {
   "cell_type": "code",
   "execution_count": 84,
   "metadata": {},
   "outputs": [
    {
     "data": {
      "image/png": "[encoded data removed]",
      "text/plain": [
       "<Figure size 1440x1440 with 49 Axes>"
      ]
     },
     "metadata": {},
     "output_type": "display_data"
    }
   ],
   "source": [
    "#Exploring data with histogram.\n",
    "oil_prod.hist(bins= 20, figsize= (20,20));\n",
    "#production data is right skewed, most nations are non-oil producing."
   ]
  },
  {
   "cell_type": "markdown",
   "metadata": {},
   "source": [
    "Describe to get overview of data"
   ]
  },
  {
   "cell_type": "code",
   "execution_count": 85,
   "metadata": {},
   "outputs": [
    {
     "data": {
      "text/html": [
       "<div>\n",
       "<style scoped>\n",
       "    .dataframe tbody tr th:only-of-type {\n",
       "        vertical-align: middle;\n",
       "    }\n",
       "\n",
       "    .dataframe tbody tr th {\n",
       "        vertical-align: top;\n",
       "    }\n",
       "\n",
       "    .dataframe thead th {\n",
       "        text-align: right;\n",
       "    }\n",
       "</style>\n",
       "<table border=\"1\" class=\"dataframe\">\n",
       "  <thead>\n",
       "    <tr style=\"text-align: right;\">\n",
       "      <th></th>\n",
       "      <th>1965</th>\n",
       "      <th>1966</th>\n",
       "      <th>1967</th>\n",
       "      <th>1968</th>\n",
       "      <th>1969</th>\n",
       "      <th>1970</th>\n",
       "      <th>1971</th>\n",
       "      <th>1972</th>\n",
       "      <th>1973</th>\n",
       "      <th>1974</th>\n",
       "      <th>...</th>\n",
       "      <th>2002</th>\n",
       "      <th>2003</th>\n",
       "      <th>2004</th>\n",
       "      <th>2005</th>\n",
       "      <th>2006</th>\n",
       "      <th>2007</th>\n",
       "      <th>2008</th>\n",
       "      <th>2009</th>\n",
       "      <th>2010</th>\n",
       "      <th>2011</th>\n",
       "    </tr>\n",
       "  </thead>\n",
       "  <tbody>\n",
       "    <tr>\n",
       "      <th>count</th>\n",
       "      <td>3.600000e+01</td>\n",
       "      <td>3.700000e+01</td>\n",
       "      <td>3.700000e+01</td>\n",
       "      <td>3.900000e+01</td>\n",
       "      <td>3.900000e+01</td>\n",
       "      <td>3.900000e+01</td>\n",
       "      <td>4.000000e+01</td>\n",
       "      <td>4.200000e+01</td>\n",
       "      <td>4.200000e+01</td>\n",
       "      <td>4.200000e+01</td>\n",
       "      <td>...</td>\n",
       "      <td>4.700000e+01</td>\n",
       "      <td>4.800000e+01</td>\n",
       "      <td>4.800000e+01</td>\n",
       "      <td>4.800000e+01</td>\n",
       "      <td>4.800000e+01</td>\n",
       "      <td>4.800000e+01</td>\n",
       "      <td>4.800000e+01</td>\n",
       "      <td>4.800000e+01</td>\n",
       "      <td>4.800000e+01</td>\n",
       "      <td>4.800000e+01</td>\n",
       "    </tr>\n",
       "    <tr>\n",
       "      <th>mean</th>\n",
       "      <td>3.594683e+07</td>\n",
       "      <td>3.797267e+07</td>\n",
       "      <td>4.064622e+07</td>\n",
       "      <td>4.224891e+07</td>\n",
       "      <td>4.560825e+07</td>\n",
       "      <td>5.049943e+07</td>\n",
       "      <td>5.210008e+07</td>\n",
       "      <td>5.250194e+07</td>\n",
       "      <td>5.731077e+07</td>\n",
       "      <td>5.679905e+07</td>\n",
       "      <td>...</td>\n",
       "      <td>7.528571e+07</td>\n",
       "      <td>7.614095e+07</td>\n",
       "      <td>7.974359e+07</td>\n",
       "      <td>8.053478e+07</td>\n",
       "      <td>8.080068e+07</td>\n",
       "      <td>8.075730e+07</td>\n",
       "      <td>8.152256e+07</td>\n",
       "      <td>7.956299e+07</td>\n",
       "      <td>8.118988e+07</td>\n",
       "      <td>8.215746e+07</td>\n",
       "    </tr>\n",
       "    <tr>\n",
       "      <th>std</th>\n",
       "      <td>7.897325e+07</td>\n",
       "      <td>8.259329e+07</td>\n",
       "      <td>8.808066e+07</td>\n",
       "      <td>9.054929e+07</td>\n",
       "      <td>9.323808e+07</td>\n",
       "      <td>9.857191e+07</td>\n",
       "      <td>9.959081e+07</td>\n",
       "      <td>1.018014e+08</td>\n",
       "      <td>1.079713e+08</td>\n",
       "      <td>1.084993e+08</td>\n",
       "      <td>...</td>\n",
       "      <td>9.652898e+07</td>\n",
       "      <td>1.040518e+08</td>\n",
       "      <td>1.084341e+08</td>\n",
       "      <td>1.102814e+08</td>\n",
       "      <td>1.100228e+08</td>\n",
       "      <td>1.089150e+08</td>\n",
       "      <td>1.102022e+08</td>\n",
       "      <td>1.069100e+08</td>\n",
       "      <td>1.091443e+08</td>\n",
       "      <td>1.160546e+08</td>\n",
       "    </tr>\n",
       "    <tr>\n",
       "      <th>min</th>\n",
       "      <td>0.000000e+00</td>\n",
       "      <td>0.000000e+00</td>\n",
       "      <td>0.000000e+00</td>\n",
       "      <td>0.000000e+00</td>\n",
       "      <td>0.000000e+00</td>\n",
       "      <td>0.000000e+00</td>\n",
       "      <td>0.000000e+00</td>\n",
       "      <td>0.000000e+00</td>\n",
       "      <td>0.000000e+00</td>\n",
       "      <td>0.000000e+00</td>\n",
       "      <td>...</td>\n",
       "      <td>3.518000e+06</td>\n",
       "      <td>1.237410e+06</td>\n",
       "      <td>3.376000e+06</td>\n",
       "      <td>3.439000e+06</td>\n",
       "      <td>3.306000e+06</td>\n",
       "      <td>4.608000e+06</td>\n",
       "      <td>4.209776e+06</td>\n",
       "      <td>3.950356e+06</td>\n",
       "      <td>3.649308e+06</td>\n",
       "      <td>3.585000e+06</td>\n",
       "    </tr>\n",
       "    <tr>\n",
       "      <th>25%</th>\n",
       "      <td>5.984453e+05</td>\n",
       "      <td>6.310000e+05</td>\n",
       "      <td>1.723000e+06</td>\n",
       "      <td>1.337784e+06</td>\n",
       "      <td>2.341805e+06</td>\n",
       "      <td>4.007561e+06</td>\n",
       "      <td>3.303202e+06</td>\n",
       "      <td>3.597939e+06</td>\n",
       "      <td>3.801054e+06</td>\n",
       "      <td>3.924501e+06</td>\n",
       "      <td>...</td>\n",
       "      <td>1.350870e+07</td>\n",
       "      <td>1.278998e+07</td>\n",
       "      <td>1.408790e+07</td>\n",
       "      <td>1.442622e+07</td>\n",
       "      <td>1.581097e+07</td>\n",
       "      <td>1.450851e+07</td>\n",
       "      <td>1.383972e+07</td>\n",
       "      <td>1.409762e+07</td>\n",
       "      <td>1.375662e+07</td>\n",
       "      <td>1.241370e+07</td>\n",
       "    </tr>\n",
       "    <tr>\n",
       "      <th>50%</th>\n",
       "      <td>8.663003e+06</td>\n",
       "      <td>7.562912e+06</td>\n",
       "      <td>8.850564e+06</td>\n",
       "      <td>8.577000e+06</td>\n",
       "      <td>1.123391e+07</td>\n",
       "      <td>1.175993e+07</td>\n",
       "      <td>1.288440e+07</td>\n",
       "      <td>9.819683e+06</td>\n",
       "      <td>1.057493e+07</td>\n",
       "      <td>9.630694e+06</td>\n",
       "      <td>...</td>\n",
       "      <td>3.524200e+07</td>\n",
       "      <td>3.607350e+07</td>\n",
       "      <td>3.592160e+07</td>\n",
       "      <td>3.425400e+07</td>\n",
       "      <td>3.469700e+07</td>\n",
       "      <td>3.472435e+07</td>\n",
       "      <td>3.529371e+07</td>\n",
       "      <td>3.563111e+07</td>\n",
       "      <td>3.992964e+07</td>\n",
       "      <td>3.778876e+07</td>\n",
       "    </tr>\n",
       "    <tr>\n",
       "      <th>75%</th>\n",
       "      <td>2.502170e+07</td>\n",
       "      <td>2.392946e+07</td>\n",
       "      <td>2.574689e+07</td>\n",
       "      <td>2.725296e+07</td>\n",
       "      <td>3.070951e+07</td>\n",
       "      <td>4.566071e+07</td>\n",
       "      <td>4.716413e+07</td>\n",
       "      <td>5.356662e+07</td>\n",
       "      <td>6.406329e+07</td>\n",
       "      <td>6.827422e+07</td>\n",
       "      <td>...</td>\n",
       "      <td>1.031290e+08</td>\n",
       "      <td>1.071330e+08</td>\n",
       "      <td>1.052034e+08</td>\n",
       "      <td>9.858091e+07</td>\n",
       "      <td>1.035435e+08</td>\n",
       "      <td>1.074447e+08</td>\n",
       "      <td>1.075253e+08</td>\n",
       "      <td>1.067294e+08</td>\n",
       "      <td>1.130897e+08</td>\n",
       "      <td>1.152757e+08</td>\n",
       "    </tr>\n",
       "    <tr>\n",
       "      <th>max</th>\n",
       "      <td>4.276871e+08</td>\n",
       "      <td>4.545269e+08</td>\n",
       "      <td>4.842091e+08</td>\n",
       "      <td>5.028932e+08</td>\n",
       "      <td>5.113680e+08</td>\n",
       "      <td>5.334974e+08</td>\n",
       "      <td>5.258989e+08</td>\n",
       "      <td>5.278931e+08</td>\n",
       "      <td>5.146546e+08</td>\n",
       "      <td>4.913961e+08</td>\n",
       "      <td>...</td>\n",
       "      <td>4.241200e+08</td>\n",
       "      <td>4.838018e+08</td>\n",
       "      <td>5.043054e+08</td>\n",
       "      <td>5.248709e+08</td>\n",
       "      <td>5.124392e+08</td>\n",
       "      <td>4.923720e+08</td>\n",
       "      <td>5.134809e+08</td>\n",
       "      <td>4.942470e+08</td>\n",
       "      <td>5.051300e+08</td>\n",
       "      <td>5.258003e+08</td>\n",
       "    </tr>\n",
       "  </tbody>\n",
       "</table>\n",
       "<p>8 rows × 47 columns</p>\n",
       "</div>"
      ],
      "text/plain": [
       "               1965          1966          1967          1968          1969  \\\n",
       "count  3.600000e+01  3.700000e+01  3.700000e+01  3.900000e+01  3.900000e+01   \n",
       "mean   3.594683e+07  3.797267e+07  4.064622e+07  4.224891e+07  4.560825e+07   \n",
       "std    7.897325e+07  8.259329e+07  8.808066e+07  9.054929e+07  9.323808e+07   \n",
       "min    0.000000e+00  0.000000e+00  0.000000e+00  0.000000e+00  0.000000e+00   \n",
       "25%    5.984453e+05  6.310000e+05  1.723000e+06  1.337784e+06  2.341805e+06   \n",
       "50%    8.663003e+06  7.562912e+06  8.850564e+06  8.577000e+06  1.123391e+07   \n",
       "75%    2.502170e+07  2.392946e+07  2.574689e+07  2.725296e+07  3.070951e+07   \n",
       "max    4.276871e+08  4.545269e+08  4.842091e+08  5.028932e+08  5.113680e+08   \n",
       "\n",
       "               1970          1971          1972          1973          1974  \\\n",
       "count  3.900000e+01  4.000000e+01  4.200000e+01  4.200000e+01  4.200000e+01   \n",
       "mean   5.049943e+07  5.210008e+07  5.250194e+07  5.731077e+07  5.679905e+07   \n",
       "std    9.857191e+07  9.959081e+07  1.018014e+08  1.079713e+08  1.084993e+08   \n",
       "min    0.000000e+00  0.000000e+00  0.000000e+00  0.000000e+00  0.000000e+00   \n",
       "25%    4.007561e+06  3.303202e+06  3.597939e+06  3.801054e+06  3.924501e+06   \n",
       "50%    1.175993e+07  1.288440e+07  9.819683e+06  1.057493e+07  9.630694e+06   \n",
       "75%    4.566071e+07  4.716413e+07  5.356662e+07  6.406329e+07  6.827422e+07   \n",
       "max    5.334974e+08  5.258989e+08  5.278931e+08  5.146546e+08  4.913961e+08   \n",
       "\n",
       "           ...               2002          2003          2004          2005  \\\n",
       "count      ...       4.700000e+01  4.800000e+01  4.800000e+01  4.800000e+01   \n",
       "mean       ...       7.528571e+07  7.614095e+07  7.974359e+07  8.053478e+07   \n",
       "std        ...       9.652898e+07  1.040518e+08  1.084341e+08  1.102814e+08   \n",
       "min        ...       3.518000e+06  1.237410e+06  3.376000e+06  3.439000e+06   \n",
       "25%        ...       1.350870e+07  1.278998e+07  1.408790e+07  1.442622e+07   \n",
       "50%        ...       3.524200e+07  3.607350e+07  3.592160e+07  3.425400e+07   \n",
       "75%        ...       1.031290e+08  1.071330e+08  1.052034e+08  9.858091e+07   \n",
       "max        ...       4.241200e+08  4.838018e+08  5.043054e+08  5.248709e+08   \n",
       "\n",
       "               2006          2007          2008          2009          2010  \\\n",
       "count  4.800000e+01  4.800000e+01  4.800000e+01  4.800000e+01  4.800000e+01   \n",
       "mean   8.080068e+07  8.075730e+07  8.152256e+07  7.956299e+07  8.118988e+07   \n",
       "std    1.100228e+08  1.089150e+08  1.102022e+08  1.069100e+08  1.091443e+08   \n",
       "min    3.306000e+06  4.608000e+06  4.209776e+06  3.950356e+06  3.649308e+06   \n",
       "25%    1.581097e+07  1.450851e+07  1.383972e+07  1.409762e+07  1.375662e+07   \n",
       "50%    3.469700e+07  3.472435e+07  3.529371e+07  3.563111e+07  3.992964e+07   \n",
       "75%    1.035435e+08  1.074447e+08  1.075253e+08  1.067294e+08  1.130897e+08   \n",
       "max    5.124392e+08  4.923720e+08  5.134809e+08  4.942470e+08  5.051300e+08   \n",
       "\n",
       "               2011  \n",
       "count  4.800000e+01  \n",
       "mean   8.215746e+07  \n",
       "std    1.160546e+08  \n",
       "min    3.585000e+06  \n",
       "25%    1.241370e+07  \n",
       "50%    3.778876e+07  \n",
       "75%    1.152757e+08  \n",
       "max    5.258003e+08  \n",
       "\n",
       "[8 rows x 47 columns]"
      ]
     },
     "execution_count": 85,
     "metadata": {},
     "output_type": "execute_result"
    }
   ],
   "source": [
    "oil_prod.describe()"
   ]
  },
  {
   "cell_type": "markdown",
   "metadata": {},
   "source": [
    "##### Moving to 2nd Excel file"
   ]
  },
  {
   "cell_type": "code",
   "execution_count": 86,
   "metadata": {},
   "outputs": [
    {
     "data": {
      "text/html": [
       "<div>\n",
       "<style scoped>\n",
       "    .dataframe tbody tr th:only-of-type {\n",
       "        vertical-align: middle;\n",
       "    }\n",
       "\n",
       "    .dataframe tbody tr th {\n",
       "        vertical-align: top;\n",
       "    }\n",
       "\n",
       "    .dataframe thead th {\n",
       "        text-align: right;\n",
       "    }\n",
       "</style>\n",
       "<table border=\"1\" class=\"dataframe\">\n",
       "  <thead>\n",
       "    <tr style=\"text-align: right;\">\n",
       "      <th></th>\n",
       "      <th>Country</th>\n",
       "      <th>1980</th>\n",
       "      <th>1981</th>\n",
       "      <th>1982</th>\n",
       "      <th>1983</th>\n",
       "      <th>1984</th>\n",
       "      <th>1985</th>\n",
       "      <th>1986</th>\n",
       "      <th>1987</th>\n",
       "      <th>1988</th>\n",
       "      <th>...</th>\n",
       "      <th>1999</th>\n",
       "      <th>2000</th>\n",
       "      <th>2001</th>\n",
       "      <th>2002</th>\n",
       "      <th>2003</th>\n",
       "      <th>2004</th>\n",
       "      <th>2005</th>\n",
       "      <th>2006</th>\n",
       "      <th>2007</th>\n",
       "      <th>2008</th>\n",
       "    </tr>\n",
       "  </thead>\n",
       "  <tbody>\n",
       "    <tr>\n",
       "      <th>0</th>\n",
       "      <td>Algeria</td>\n",
       "      <td>1118480000</td>\n",
       "      <td>1102112000</td>\n",
       "      <td>1287616000</td>\n",
       "      <td>1257608000</td>\n",
       "      <td>1227600000</td>\n",
       "      <td>1203048000</td>\n",
       "      <td>1200320000</td>\n",
       "      <td>1168129600</td>\n",
       "      <td>1254880000</td>\n",
       "      <td>...</td>\n",
       "      <td>1543229600</td>\n",
       "      <td>1543229600</td>\n",
       "      <td>1543229600</td>\n",
       "      <td>1543229600</td>\n",
       "      <td>1609520000</td>\n",
       "      <td>1609520000</td>\n",
       "      <td>1673628000</td>\n",
       "      <td>1673628000</td>\n",
       "      <td>1664080000</td>\n",
       "      <td>1664080000</td>\n",
       "    </tr>\n",
       "    <tr>\n",
       "      <th>1</th>\n",
       "      <td>Angola</td>\n",
       "      <td>187550000</td>\n",
       "      <td>151131200</td>\n",
       "      <td>198734800</td>\n",
       "      <td>233926000</td>\n",
       "      <td>292850800</td>\n",
       "      <td>275255200</td>\n",
       "      <td>190960000</td>\n",
       "      <td>272800000</td>\n",
       "      <td>272800000</td>\n",
       "      <td>...</td>\n",
       "      <td>688820000</td>\n",
       "      <td>814580800</td>\n",
       "      <td>886600000</td>\n",
       "      <td>1213960000</td>\n",
       "      <td>1200456400</td>\n",
       "      <td>1232374000</td>\n",
       "      <td>1232374000</td>\n",
       "      <td>1232374000</td>\n",
       "      <td>1841400000</td>\n",
       "      <td>1841400000</td>\n",
       "    </tr>\n",
       "    <tr>\n",
       "      <th>2</th>\n",
       "      <td>Argentina</td>\n",
       "      <td>335134800</td>\n",
       "      <td>296213333</td>\n",
       "      <td>265925440</td>\n",
       "      <td>334148492</td>\n",
       "      <td>320403600</td>\n",
       "      <td>305536000</td>\n",
       "      <td>304581200</td>\n",
       "      <td>306354400</td>\n",
       "      <td>310978360</td>\n",
       "      <td>...</td>\n",
       "      <td>418910151</td>\n",
       "      <td>405613091</td>\n",
       "      <td>392652340</td>\n",
       "      <td>384717343</td>\n",
       "      <td>364803068</td>\n",
       "      <td>338000471</td>\n",
       "      <td>297387858</td>\n",
       "      <td>352834084</td>\n",
       "      <td>356825175</td>\n",
       "      <td>356825175</td>\n",
       "    </tr>\n",
       "    <tr>\n",
       "      <th>3</th>\n",
       "      <td>Australia</td>\n",
       "      <td>289551438</td>\n",
       "      <td>357156336</td>\n",
       "      <td>330131535</td>\n",
       "      <td>338281872</td>\n",
       "      <td>393275197</td>\n",
       "      <td>396192160</td>\n",
       "      <td>430337781</td>\n",
       "      <td>432654193</td>\n",
       "      <td>466542435</td>\n",
       "      <td>...</td>\n",
       "      <td>647050946</td>\n",
       "      <td>674504712</td>\n",
       "      <td>675620021</td>\n",
       "      <td>623457866</td>\n",
       "      <td>605698711</td>\n",
       "      <td>553364970</td>\n",
       "      <td>567091853</td>\n",
       "      <td>567091853</td>\n",
       "      <td>567091853</td>\n",
       "      <td>567151200</td>\n",
       "    </tr>\n",
       "    <tr>\n",
       "      <th>4</th>\n",
       "      <td>Azerbaijan</td>\n",
       "      <td>-</td>\n",
       "      <td>-</td>\n",
       "      <td>-</td>\n",
       "      <td>-</td>\n",
       "      <td>-</td>\n",
       "      <td>-</td>\n",
       "      <td>-</td>\n",
       "      <td>-</td>\n",
       "      <td>-</td>\n",
       "      <td>...</td>\n",
       "      <td>160679200</td>\n",
       "      <td>160679200</td>\n",
       "      <td>160679200</td>\n",
       "      <td>954800000</td>\n",
       "      <td>954800000</td>\n",
       "      <td>954800000</td>\n",
       "      <td>954800000</td>\n",
       "      <td>954800000</td>\n",
       "      <td>954800000</td>\n",
       "      <td>954800000</td>\n",
       "    </tr>\n",
       "  </tbody>\n",
       "</table>\n",
       "<p>5 rows × 30 columns</p>\n",
       "</div>"
      ],
      "text/plain": [
       "      Country        1980        1981        1982        1983        1984  \\\n",
       "0     Algeria  1118480000  1102112000  1287616000  1257608000  1227600000   \n",
       "1      Angola   187550000   151131200   198734800   233926000   292850800   \n",
       "2   Argentina   335134800   296213333   265925440   334148492   320403600   \n",
       "3   Australia   289551438   357156336   330131535   338281872   393275197   \n",
       "4  Azerbaijan           -           -           -           -           -   \n",
       "\n",
       "         1985        1986        1987        1988     ...            1999  \\\n",
       "0  1203048000  1200320000  1168129600  1254880000     ...      1543229600   \n",
       "1   275255200   190960000   272800000   272800000     ...       688820000   \n",
       "2   305536000   304581200   306354400   310978360     ...       418910151   \n",
       "3   396192160   430337781   432654193   466542435     ...       647050946   \n",
       "4           -           -           -           -     ...       160679200   \n",
       "\n",
       "         2000        2001        2002        2003        2004        2005  \\\n",
       "0  1543229600  1543229600  1543229600  1609520000  1609520000  1673628000   \n",
       "1   814580800   886600000  1213960000  1200456400  1232374000  1232374000   \n",
       "2   405613091   392652340   384717343   364803068   338000471   297387858   \n",
       "3   674504712   675620021   623457866   605698711   553364970   567091853   \n",
       "4   160679200   160679200   954800000   954800000   954800000   954800000   \n",
       "\n",
       "         2006        2007        2008  \n",
       "0  1673628000  1664080000  1664080000  \n",
       "1  1232374000  1841400000  1841400000  \n",
       "2   352834084   356825175   356825175  \n",
       "3   567091853   567091853   567151200  \n",
       "4   954800000   954800000   954800000  \n",
       "\n",
       "[5 rows x 30 columns]"
      ]
     },
     "execution_count": 86,
     "metadata": {},
     "output_type": "execute_result"
    }
   ],
   "source": [
    "oil_proven.head()\n",
    "# Dashed out null values instead of NAN, need to clean this up.\n",
    "# These are proven resources, contrary to production values resources might\n",
    "# be available, but not viable to produce."
   ]
  },
  {
   "cell_type": "markdown",
   "metadata": {},
   "source": [
    "Checking the data types and empty cells for each column"
   ]
  },
  {
   "cell_type": "code",
   "execution_count": 87,
   "metadata": {
    "scrolled": true
   },
   "outputs": [
    {
     "name": "stdout",
     "output_type": "stream",
     "text": [
      "<class 'pandas.core.frame.DataFrame'>\n",
      "RangeIndex: 48 entries, 0 to 47\n",
      "Data columns (total 30 columns):\n",
      "Country    48 non-null object\n",
      "1980       48 non-null object\n",
      "1981       48 non-null object\n",
      "1982       48 non-null object\n",
      "1983       48 non-null object\n",
      "1984       48 non-null object\n",
      "1985       48 non-null object\n",
      "1986       48 non-null object\n",
      "1987       48 non-null object\n",
      "1988       48 non-null object\n",
      "1989       48 non-null object\n",
      "1990       48 non-null object\n",
      "1991       48 non-null object\n",
      "1992       48 non-null object\n",
      "1993       48 non-null object\n",
      "1994       48 non-null object\n",
      "1995       48 non-null object\n",
      "1996       48 non-null object\n",
      "1997       48 non-null object\n",
      "1998       48 non-null object\n",
      "1999       48 non-null object\n",
      "2000       48 non-null int64\n",
      "2001       48 non-null int64\n",
      "2002       48 non-null int64\n",
      "2003       48 non-null int64\n",
      "2004       48 non-null int64\n",
      "2005       48 non-null int64\n",
      "2006       48 non-null int64\n",
      "2007       48 non-null int64\n",
      "2008       48 non-null int64\n",
      "dtypes: int64(9), object(21)\n",
      "memory usage: 11.3+ KB\n"
     ]
    }
   ],
   "source": [
    "oil_proven.info()"
   ]
  },
  {
   "cell_type": "markdown",
   "metadata": {},
   "source": [
    "\n",
    "\n",
    "\n",
    "\n",
    "\n",
    "\n",
    "\n",
    "\n",
    "\n",
    "\n",
    "\n",
    "\n",
    "\n",
    "\n",
    "\n",
    "\n",
    "\n",
    "\n",
    "\n",
    "\n",
    "\n",
    "\n",
    "\n",
    "\n",
    "\n",
    "\n",
    "\n",
    "\n",
    "\n",
    "\n",
    "\n",
    "\n",
    "Quick view histogram analysis\n"
   ]
  },
  {
   "cell_type": "code",
   "execution_count": 88,
   "metadata": {
    "scrolled": true
   },
   "outputs": [
    {
     "data": {
      "image/png": "[encoded data removed]",
      "text/plain": [
       "<Figure size 1440x1440 with 9 Axes>"
      ]
     },
     "metadata": {},
     "output_type": "display_data"
    }
   ],
   "source": [
    "#Exploring data with histogram.\n",
    "oil_proven.hist(bins= 20, figsize= (20,20));\n",
    "#right skewed data"
   ]
  },
  {
   "cell_type": "markdown",
   "metadata": {},
   "source": [
    "##### Moving to 3rd Excel file"
   ]
  },
  {
   "cell_type": "code",
   "execution_count": 89,
   "metadata": {},
   "outputs": [
    {
     "data": {
      "text/html": [
       "<div>\n",
       "<style scoped>\n",
       "    .dataframe tbody tr th:only-of-type {\n",
       "        vertical-align: middle;\n",
       "    }\n",
       "\n",
       "    .dataframe tbody tr th {\n",
       "        vertical-align: top;\n",
       "    }\n",
       "\n",
       "    .dataframe thead th {\n",
       "        text-align: right;\n",
       "    }\n",
       "</style>\n",
       "<table border=\"1\" class=\"dataframe\">\n",
       "  <thead>\n",
       "    <tr style=\"text-align: right;\">\n",
       "      <th></th>\n",
       "      <th>Country</th>\n",
       "      <th>1965</th>\n",
       "      <th>1966</th>\n",
       "      <th>1967</th>\n",
       "      <th>1968</th>\n",
       "      <th>1969</th>\n",
       "      <th>1970</th>\n",
       "      <th>1971</th>\n",
       "      <th>1972</th>\n",
       "      <th>1973</th>\n",
       "      <th>...</th>\n",
       "      <th>2002</th>\n",
       "      <th>2003</th>\n",
       "      <th>2004</th>\n",
       "      <th>2005</th>\n",
       "      <th>2006</th>\n",
       "      <th>2007</th>\n",
       "      <th>2008</th>\n",
       "      <th>2009</th>\n",
       "      <th>2010</th>\n",
       "      <th>2011</th>\n",
       "    </tr>\n",
       "  </thead>\n",
       "  <tbody>\n",
       "    <tr>\n",
       "      <th>0</th>\n",
       "      <td>Algeria</td>\n",
       "      <td>1289000</td>\n",
       "      <td>1693000</td>\n",
       "      <td>1578000</td>\n",
       "      <td>1682000</td>\n",
       "      <td>1775000</td>\n",
       "      <td>2032000</td>\n",
       "      <td>2288000</td>\n",
       "      <td>2514000</td>\n",
       "      <td>2739000</td>\n",
       "      <td>...</td>\n",
       "      <td>9744000</td>\n",
       "      <td>10134000</td>\n",
       "      <td>10598000</td>\n",
       "      <td>11039396</td>\n",
       "      <td>11519500</td>\n",
       "      <td>12904556</td>\n",
       "      <td>14012890</td>\n",
       "      <td>14900000.0</td>\n",
       "      <td>14900000.0</td>\n",
       "      <td>NaN</td>\n",
       "    </tr>\n",
       "    <tr>\n",
       "      <th>1</th>\n",
       "      <td>Argentina</td>\n",
       "      <td>21952000</td>\n",
       "      <td>22678000</td>\n",
       "      <td>23224000</td>\n",
       "      <td>23733000</td>\n",
       "      <td>24671000</td>\n",
       "      <td>21942000</td>\n",
       "      <td>23491000</td>\n",
       "      <td>23162000</td>\n",
       "      <td>23189000</td>\n",
       "      <td>...</td>\n",
       "      <td>17107000</td>\n",
       "      <td>17558000</td>\n",
       "      <td>18401000</td>\n",
       "      <td>19676875</td>\n",
       "      <td>20555955</td>\n",
       "      <td>23192795</td>\n",
       "      <td>24219411</td>\n",
       "      <td>23700000.0</td>\n",
       "      <td>25700000.0</td>\n",
       "      <td>NaN</td>\n",
       "    </tr>\n",
       "    <tr>\n",
       "      <th>2</th>\n",
       "      <td>Australia</td>\n",
       "      <td>16902000</td>\n",
       "      <td>18120000</td>\n",
       "      <td>19812000</td>\n",
       "      <td>21892000</td>\n",
       "      <td>23425000</td>\n",
       "      <td>24451000</td>\n",
       "      <td>25803000</td>\n",
       "      <td>25784000</td>\n",
       "      <td>28206000</td>\n",
       "      <td>...</td>\n",
       "      <td>37970000</td>\n",
       "      <td>38275000</td>\n",
       "      <td>38791278</td>\n",
       "      <td>39838432</td>\n",
       "      <td>41414188</td>\n",
       "      <td>41732248</td>\n",
       "      <td>42461108</td>\n",
       "      <td>42200000.0</td>\n",
       "      <td>42600000.0</td>\n",
       "      <td>NaN</td>\n",
       "    </tr>\n",
       "    <tr>\n",
       "      <th>3</th>\n",
       "      <td>Austria</td>\n",
       "      <td>5534000</td>\n",
       "      <td>6068000</td>\n",
       "      <td>6491000</td>\n",
       "      <td>7513000</td>\n",
       "      <td>8253000</td>\n",
       "      <td>9071000</td>\n",
       "      <td>10127000</td>\n",
       "      <td>10923000</td>\n",
       "      <td>11831000</td>\n",
       "      <td>...</td>\n",
       "      <td>13040000</td>\n",
       "      <td>14136000</td>\n",
       "      <td>13755000</td>\n",
       "      <td>14170000</td>\n",
       "      <td>14195000</td>\n",
       "      <td>13394000</td>\n",
       "      <td>13421000</td>\n",
       "      <td>13000000.0</td>\n",
       "      <td>13000000.0</td>\n",
       "      <td>NaN</td>\n",
       "    </tr>\n",
       "    <tr>\n",
       "      <th>4</th>\n",
       "      <td>Azerbaijan</td>\n",
       "      <td>-</td>\n",
       "      <td>-</td>\n",
       "      <td>-</td>\n",
       "      <td>-</td>\n",
       "      <td>-</td>\n",
       "      <td>-</td>\n",
       "      <td>-</td>\n",
       "      <td>-</td>\n",
       "      <td>-</td>\n",
       "      <td>...</td>\n",
       "      <td>3665000</td>\n",
       "      <td>4272000</td>\n",
       "      <td>4579000</td>\n",
       "      <td>5347000</td>\n",
       "      <td>4868500</td>\n",
       "      <td>4496000</td>\n",
       "      <td>3340300</td>\n",
       "      <td>3200000.0</td>\n",
       "      <td>3300000.0</td>\n",
       "      <td>NaN</td>\n",
       "    </tr>\n",
       "  </tbody>\n",
       "</table>\n",
       "<p>5 rows × 48 columns</p>\n",
       "</div>"
      ],
      "text/plain": [
       "      Country      1965      1966      1967      1968      1969      1970  \\\n",
       "0     Algeria   1289000   1693000   1578000   1682000   1775000   2032000   \n",
       "1   Argentina  21952000  22678000  23224000  23733000  24671000  21942000   \n",
       "2   Australia  16902000  18120000  19812000  21892000  23425000  24451000   \n",
       "3     Austria   5534000   6068000   6491000   7513000   8253000   9071000   \n",
       "4  Azerbaijan         -         -         -         -         -         -   \n",
       "\n",
       "       1971      1972      1973 ...       2002      2003      2004      2005  \\\n",
       "0   2288000   2514000   2739000 ...    9744000  10134000  10598000  11039396   \n",
       "1  23491000  23162000  23189000 ...   17107000  17558000  18401000  19676875   \n",
       "2  25803000  25784000  28206000 ...   37970000  38275000  38791278  39838432   \n",
       "3  10127000  10923000  11831000 ...   13040000  14136000  13755000  14170000   \n",
       "4         -         -         - ...    3665000   4272000   4579000   5347000   \n",
       "\n",
       "       2006      2007      2008        2009        2010 2011  \n",
       "0  11519500  12904556  14012890  14900000.0  14900000.0  NaN  \n",
       "1  20555955  23192795  24219411  23700000.0  25700000.0  NaN  \n",
       "2  41414188  41732248  42461108  42200000.0  42600000.0  NaN  \n",
       "3  14195000  13394000  13421000  13000000.0  13000000.0  NaN  \n",
       "4   4868500   4496000   3340300   3200000.0   3300000.0  NaN  \n",
       "\n",
       "[5 rows x 48 columns]"
      ]
     },
     "execution_count": 89,
     "metadata": {},
     "output_type": "execute_result"
    }
   ],
   "source": [
    "oil_consume.head()\n",
    "#Need to clean up dashed out values"
   ]
  },
  {
   "cell_type": "markdown",
   "metadata": {},
   "source": [
    "Checking the data types and empty cells for each column"
   ]
  },
  {
   "cell_type": "code",
   "execution_count": 90,
   "metadata": {},
   "outputs": [
    {
     "name": "stdout",
     "output_type": "stream",
     "text": [
      "<class 'pandas.core.frame.DataFrame'>\n",
      "RangeIndex: 64 entries, 0 to 63\n",
      "Data columns (total 48 columns):\n",
      "Country    64 non-null object\n",
      "1965       64 non-null object\n",
      "1966       64 non-null object\n",
      "1967       64 non-null object\n",
      "1968       64 non-null object\n",
      "1969       64 non-null object\n",
      "1970       64 non-null object\n",
      "1971       64 non-null object\n",
      "1972       64 non-null object\n",
      "1973       64 non-null object\n",
      "1974       64 non-null object\n",
      "1975       64 non-null object\n",
      "1976       64 non-null object\n",
      "1977       64 non-null object\n",
      "1978       64 non-null object\n",
      "1979       64 non-null object\n",
      "1980       64 non-null object\n",
      "1981       64 non-null object\n",
      "1982       64 non-null object\n",
      "1983       64 non-null object\n",
      "1984       64 non-null object\n",
      "1985       64 non-null int64\n",
      "1986       64 non-null int64\n",
      "1987       64 non-null int64\n",
      "1988       64 non-null int64\n",
      "1989       64 non-null int64\n",
      "1990       64 non-null int64\n",
      "1991       64 non-null int64\n",
      "1992       64 non-null int64\n",
      "1993       64 non-null int64\n",
      "1994       64 non-null int64\n",
      "1995       64 non-null int64\n",
      "1996       64 non-null int64\n",
      "1997       64 non-null int64\n",
      "1998       64 non-null int64\n",
      "1999       64 non-null int64\n",
      "2000       64 non-null int64\n",
      "2001       64 non-null int64\n",
      "2002       64 non-null int64\n",
      "2003       64 non-null int64\n",
      "2004       64 non-null int64\n",
      "2005       64 non-null int64\n",
      "2006       64 non-null int64\n",
      "2007       64 non-null int64\n",
      "2008       64 non-null int64\n",
      "2009       63 non-null float64\n",
      "2010       63 non-null float64\n",
      "2011       0 non-null float64\n",
      "dtypes: float64(3), int64(24), object(21)\n",
      "memory usage: 24.1+ KB\n"
     ]
    }
   ],
   "source": [
    "# Checking data info\n",
    "oil_consume.info()\n",
    "\n",
    "# Mixed data type and 2011 column doesn't have any data so cannot use that \n",
    "# year for analysis."
   ]
  },
  {
   "cell_type": "markdown",
   "metadata": {},
   "source": [
    "\n",
    "\n",
    "\n",
    "\n",
    "\n",
    "\n",
    "\n",
    "\n",
    "\n",
    "\n",
    "\n",
    "\n",
    "\n",
    "\n",
    "\n",
    "\n",
    "\n",
    "\n",
    "\n",
    "\n",
    "\n",
    "\n",
    "\n",
    "\n",
    "\n",
    "\n",
    "\n",
    "\n",
    "\n",
    "\n",
    "\n",
    "\n",
    "Quick view histogram analysis\n"
   ]
  },
  {
   "cell_type": "code",
   "execution_count": 91,
   "metadata": {},
   "outputs": [
    {
     "data": {
      "image/png": "[encoded data removed]",
      "text/plain": [
       "<Figure size 1440x1440 with 30 Axes>"
      ]
     },
     "metadata": {},
     "output_type": "display_data"
    }
   ],
   "source": [
    "#Exploring data with histogram.\n",
    "oil_consume.hist(bins = 20, figsize= (20,20));\n",
    "#right skewed data"
   ]
  },
  {
   "cell_type": "markdown",
   "metadata": {},
   "source": [
    "##### Moving to 4th Excel file"
   ]
  },
  {
   "cell_type": "code",
   "execution_count": 92,
   "metadata": {},
   "outputs": [
    {
     "data": {
      "text/html": [
       "<div>\n",
       "<style scoped>\n",
       "    .dataframe tbody tr th:only-of-type {\n",
       "        vertical-align: middle;\n",
       "    }\n",
       "\n",
       "    .dataframe tbody tr th {\n",
       "        vertical-align: top;\n",
       "    }\n",
       "\n",
       "    .dataframe thead th {\n",
       "        text-align: right;\n",
       "    }\n",
       "</style>\n",
       "<table border=\"1\" class=\"dataframe\">\n",
       "  <thead>\n",
       "    <tr style=\"text-align: right;\">\n",
       "      <th></th>\n",
       "      <th>Country</th>\n",
       "      <th>1961</th>\n",
       "      <th>1962</th>\n",
       "      <th>1963</th>\n",
       "      <th>1964</th>\n",
       "      <th>1965</th>\n",
       "      <th>1966</th>\n",
       "      <th>1967</th>\n",
       "      <th>1968</th>\n",
       "      <th>1969</th>\n",
       "      <th>...</th>\n",
       "      <th>2002</th>\n",
       "      <th>2003</th>\n",
       "      <th>2004</th>\n",
       "      <th>2005</th>\n",
       "      <th>2006</th>\n",
       "      <th>2007</th>\n",
       "      <th>2008</th>\n",
       "      <th>2009</th>\n",
       "      <th>2010</th>\n",
       "      <th>2011</th>\n",
       "    </tr>\n",
       "  </thead>\n",
       "  <tbody>\n",
       "    <tr>\n",
       "      <th>0</th>\n",
       "      <td>Abkhazia</td>\n",
       "      <td>NaN</td>\n",
       "      <td>NaN</td>\n",
       "      <td>NaN</td>\n",
       "      <td>NaN</td>\n",
       "      <td>NaN</td>\n",
       "      <td>NaN</td>\n",
       "      <td>NaN</td>\n",
       "      <td>NaN</td>\n",
       "      <td>NaN</td>\n",
       "      <td>...</td>\n",
       "      <td>NaN</td>\n",
       "      <td>NaN</td>\n",
       "      <td>NaN</td>\n",
       "      <td>NaN</td>\n",
       "      <td>NaN</td>\n",
       "      <td>NaN</td>\n",
       "      <td>NaN</td>\n",
       "      <td>NaN</td>\n",
       "      <td>NaN</td>\n",
       "      <td>NaN</td>\n",
       "    </tr>\n",
       "    <tr>\n",
       "      <th>1</th>\n",
       "      <td>Afghanistan</td>\n",
       "      <td>NaN</td>\n",
       "      <td>NaN</td>\n",
       "      <td>NaN</td>\n",
       "      <td>NaN</td>\n",
       "      <td>NaN</td>\n",
       "      <td>NaN</td>\n",
       "      <td>NaN</td>\n",
       "      <td>NaN</td>\n",
       "      <td>NaN</td>\n",
       "      <td>...</td>\n",
       "      <td>1.336378e+10</td>\n",
       "      <td>1.678050e+10</td>\n",
       "      <td>1.893645e+10</td>\n",
       "      <td>2.240887e+10</td>\n",
       "      <td>2.729843e+10</td>\n",
       "      <td>3.070364e+10</td>\n",
       "      <td>2.809452e+10</td>\n",
       "      <td>3.341694e+10</td>\n",
       "      <td>3.634080e+10</td>\n",
       "      <td>NaN</td>\n",
       "    </tr>\n",
       "    <tr>\n",
       "      <th>2</th>\n",
       "      <td>Akrotiri and Dhekelia</td>\n",
       "      <td>NaN</td>\n",
       "      <td>NaN</td>\n",
       "      <td>NaN</td>\n",
       "      <td>NaN</td>\n",
       "      <td>NaN</td>\n",
       "      <td>NaN</td>\n",
       "      <td>NaN</td>\n",
       "      <td>NaN</td>\n",
       "      <td>NaN</td>\n",
       "      <td>...</td>\n",
       "      <td>NaN</td>\n",
       "      <td>NaN</td>\n",
       "      <td>NaN</td>\n",
       "      <td>NaN</td>\n",
       "      <td>NaN</td>\n",
       "      <td>NaN</td>\n",
       "      <td>NaN</td>\n",
       "      <td>NaN</td>\n",
       "      <td>NaN</td>\n",
       "      <td>NaN</td>\n",
       "    </tr>\n",
       "    <tr>\n",
       "      <th>3</th>\n",
       "      <td>Albania</td>\n",
       "      <td>NaN</td>\n",
       "      <td>NaN</td>\n",
       "      <td>NaN</td>\n",
       "      <td>NaN</td>\n",
       "      <td>NaN</td>\n",
       "      <td>NaN</td>\n",
       "      <td>NaN</td>\n",
       "      <td>NaN</td>\n",
       "      <td>NaN</td>\n",
       "      <td>...</td>\n",
       "      <td>1.539573e+10</td>\n",
       "      <td>1.663143e+10</td>\n",
       "      <td>1.801537e+10</td>\n",
       "      <td>1.954609e+10</td>\n",
       "      <td>2.208245e+10</td>\n",
       "      <td>2.343622e+10</td>\n",
       "      <td>2.635538e+10</td>\n",
       "      <td>2.732051e+10</td>\n",
       "      <td>2.747576e+10</td>\n",
       "      <td>2.863173e+10</td>\n",
       "    </tr>\n",
       "    <tr>\n",
       "      <th>4</th>\n",
       "      <td>Algeria</td>\n",
       "      <td>NaN</td>\n",
       "      <td>NaN</td>\n",
       "      <td>NaN</td>\n",
       "      <td>NaN</td>\n",
       "      <td>NaN</td>\n",
       "      <td>NaN</td>\n",
       "      <td>NaN</td>\n",
       "      <td>NaN</td>\n",
       "      <td>NaN</td>\n",
       "      <td>...</td>\n",
       "      <td>1.767201e+11</td>\n",
       "      <td>1.927724e+11</td>\n",
       "      <td>2.079228e+11</td>\n",
       "      <td>2.240600e+11</td>\n",
       "      <td>2.387023e+11</td>\n",
       "      <td>2.596084e+11</td>\n",
       "      <td>2.732739e+11</td>\n",
       "      <td>2.879803e+11</td>\n",
       "      <td>2.859299e+11</td>\n",
       "      <td>3.010651e+11</td>\n",
       "    </tr>\n",
       "  </tbody>\n",
       "</table>\n",
       "<p>5 rows × 52 columns</p>\n",
       "</div>"
      ],
      "text/plain": [
       "                 Country  1961  1962  1963  1964  1965  1966  1967  1968  \\\n",
       "0               Abkhazia   NaN   NaN   NaN   NaN   NaN   NaN   NaN   NaN   \n",
       "1            Afghanistan   NaN   NaN   NaN   NaN   NaN   NaN   NaN   NaN   \n",
       "2  Akrotiri and Dhekelia   NaN   NaN   NaN   NaN   NaN   NaN   NaN   NaN   \n",
       "3                Albania   NaN   NaN   NaN   NaN   NaN   NaN   NaN   NaN   \n",
       "4                Algeria   NaN   NaN   NaN   NaN   NaN   NaN   NaN   NaN   \n",
       "\n",
       "   1969      ...               2002          2003          2004          2005  \\\n",
       "0   NaN      ...                NaN           NaN           NaN           NaN   \n",
       "1   NaN      ...       1.336378e+10  1.678050e+10  1.893645e+10  2.240887e+10   \n",
       "2   NaN      ...                NaN           NaN           NaN           NaN   \n",
       "3   NaN      ...       1.539573e+10  1.663143e+10  1.801537e+10  1.954609e+10   \n",
       "4   NaN      ...       1.767201e+11  1.927724e+11  2.079228e+11  2.240600e+11   \n",
       "\n",
       "           2006          2007          2008          2009          2010  \\\n",
       "0           NaN           NaN           NaN           NaN           NaN   \n",
       "1  2.729843e+10  3.070364e+10  2.809452e+10  3.341694e+10  3.634080e+10   \n",
       "2           NaN           NaN           NaN           NaN           NaN   \n",
       "3  2.208245e+10  2.343622e+10  2.635538e+10  2.732051e+10  2.747576e+10   \n",
       "4  2.387023e+11  2.596084e+11  2.732739e+11  2.879803e+11  2.859299e+11   \n",
       "\n",
       "           2011  \n",
       "0           NaN  \n",
       "1           NaN  \n",
       "2           NaN  \n",
       "3  2.863173e+10  \n",
       "4  3.010651e+11  \n",
       "\n",
       "[5 rows x 52 columns]"
      ]
     },
     "execution_count": 92,
     "metadata": {},
     "output_type": "execute_result"
    }
   ],
   "source": [
    "gni.head()\n",
    "#large numeric values, will need to convert it into higher denomination"
   ]
  },
  {
   "cell_type": "markdown",
   "metadata": {},
   "source": [
    "Checking the data types and empty cells for each column"
   ]
  },
  {
   "cell_type": "code",
   "execution_count": 93,
   "metadata": {},
   "outputs": [
    {
     "name": "stdout",
     "output_type": "stream",
     "text": [
      "<class 'pandas.core.frame.DataFrame'>\n",
      "RangeIndex: 272 entries, 0 to 271\n",
      "Data columns (total 52 columns):\n",
      "Country    272 non-null object\n",
      "1961       0 non-null float64\n",
      "1962       0 non-null float64\n",
      "1963       0 non-null float64\n",
      "1964       0 non-null float64\n",
      "1965       0 non-null float64\n",
      "1966       0 non-null float64\n",
      "1967       0 non-null float64\n",
      "1968       0 non-null float64\n",
      "1969       0 non-null float64\n",
      "1970       0 non-null float64\n",
      "1971       0 non-null float64\n",
      "1972       0 non-null float64\n",
      "1973       0 non-null float64\n",
      "1974       0 non-null float64\n",
      "1975       0 non-null float64\n",
      "1976       0 non-null float64\n",
      "1977       0 non-null float64\n",
      "1978       0 non-null float64\n",
      "1979       0 non-null float64\n",
      "1980       122 non-null float64\n",
      "1981       126 non-null float64\n",
      "1982       130 non-null float64\n",
      "1983       130 non-null float64\n",
      "1984       133 non-null float64\n",
      "1985       137 non-null float64\n",
      "1986       139 non-null float64\n",
      "1987       141 non-null float64\n",
      "1988       142 non-null float64\n",
      "1989       147 non-null float64\n",
      "1990       154 non-null float64\n",
      "1991       157 non-null float64\n",
      "1992       162 non-null float64\n",
      "1993       165 non-null float64\n",
      "1994       168 non-null float64\n",
      "1995       171 non-null float64\n",
      "1996       171 non-null float64\n",
      "1997       173 non-null float64\n",
      "1998       173 non-null float64\n",
      "1999       175 non-null float64\n",
      "2000       176 non-null float64\n",
      "2001       177 non-null float64\n",
      "2002       179 non-null float64\n",
      "2003       179 non-null float64\n",
      "2004       181 non-null float64\n",
      "2005       182 non-null float64\n",
      "2006       181 non-null float64\n",
      "2007       182 non-null float64\n",
      "2008       182 non-null float64\n",
      "2009       182 non-null float64\n",
      "2010       177 non-null float64\n",
      "2011       162 non-null float64\n",
      "dtypes: float64(51), object(1)\n",
      "memory usage: 110.6+ KB\n"
     ]
    }
   ],
   "source": [
    "# Checking data info\n",
    "gni.info()\n",
    "#1961-1979 data is empty\n",
    "#2004 to 2009 has good data density, to be considered while selecting time range.\n"
   ]
  },
  {
   "cell_type": "markdown",
   "metadata": {},
   "source": [
    "Quick view histogram analysis"
   ]
  },
  {
   "cell_type": "code",
   "execution_count": 213,
   "metadata": {},
   "outputs": [
    {
     "data": {
      "image/png": "[encoded data removed]",
      "text/plain": [
       "<Figure size 1440x1440 with 56 Axes>"
      ]
     },
     "metadata": {},
     "output_type": "display_data"
    }
   ],
   "source": [
    "#Exploring data with histogram.\n",
    "gni.hist(bins= 30, figsize= (20,20));\n",
    "#right skewed data"
   ]
  },
  {
   "cell_type": "markdown",
   "metadata": {},
   "source": [
    "##  Case- 2: Smoking trends among Men and Women, and how it relates to life expectancy."
   ]
  },
  {
   "cell_type": "markdown",
   "metadata": {},
   "source": [
    "#### Utilizing the head, info, dtypes and histograms to get a good idea of dataset and plan accordingly for cleaning the data."
   ]
  },
  {
   "cell_type": "code",
   "execution_count": 95,
   "metadata": {},
   "outputs": [
    {
     "data": {
      "text/html": [
       "<div>\n",
       "<style scoped>\n",
       "    .dataframe tbody tr th:only-of-type {\n",
       "        vertical-align: middle;\n",
       "    }\n",
       "\n",
       "    .dataframe tbody tr th {\n",
       "        vertical-align: top;\n",
       "    }\n",
       "\n",
       "    .dataframe thead th {\n",
       "        text-align: right;\n",
       "    }\n",
       "</style>\n",
       "<table border=\"1\" class=\"dataframe\">\n",
       "  <thead>\n",
       "    <tr style=\"text-align: right;\">\n",
       "      <th></th>\n",
       "      <th>Life expectancy</th>\n",
       "      <th>1800</th>\n",
       "      <th>1801</th>\n",
       "      <th>1802</th>\n",
       "      <th>1803</th>\n",
       "      <th>1804</th>\n",
       "      <th>1805</th>\n",
       "      <th>1806</th>\n",
       "      <th>1807</th>\n",
       "      <th>1808</th>\n",
       "      <th>...</th>\n",
       "      <th>2007</th>\n",
       "      <th>2008</th>\n",
       "      <th>2009</th>\n",
       "      <th>2010</th>\n",
       "      <th>2011</th>\n",
       "      <th>2012</th>\n",
       "      <th>2013</th>\n",
       "      <th>2014</th>\n",
       "      <th>2015</th>\n",
       "      <th>2016</th>\n",
       "    </tr>\n",
       "  </thead>\n",
       "  <tbody>\n",
       "    <tr>\n",
       "      <th>0</th>\n",
       "      <td>Abkhazia</td>\n",
       "      <td>NaN</td>\n",
       "      <td>NaN</td>\n",
       "      <td>NaN</td>\n",
       "      <td>NaN</td>\n",
       "      <td>NaN</td>\n",
       "      <td>NaN</td>\n",
       "      <td>NaN</td>\n",
       "      <td>NaN</td>\n",
       "      <td>NaN</td>\n",
       "      <td>...</td>\n",
       "      <td>NaN</td>\n",
       "      <td>NaN</td>\n",
       "      <td>NaN</td>\n",
       "      <td>NaN</td>\n",
       "      <td>NaN</td>\n",
       "      <td>NaN</td>\n",
       "      <td>NaN</td>\n",
       "      <td>NaN</td>\n",
       "      <td>NaN</td>\n",
       "      <td>NaN</td>\n",
       "    </tr>\n",
       "    <tr>\n",
       "      <th>1</th>\n",
       "      <td>Afghanistan</td>\n",
       "      <td>28.21</td>\n",
       "      <td>28.20</td>\n",
       "      <td>28.19</td>\n",
       "      <td>28.18</td>\n",
       "      <td>28.17</td>\n",
       "      <td>28.16</td>\n",
       "      <td>28.15</td>\n",
       "      <td>28.14</td>\n",
       "      <td>28.13</td>\n",
       "      <td>...</td>\n",
       "      <td>52.4</td>\n",
       "      <td>52.8</td>\n",
       "      <td>53.3</td>\n",
       "      <td>53.6</td>\n",
       "      <td>54.0</td>\n",
       "      <td>54.4</td>\n",
       "      <td>54.8</td>\n",
       "      <td>54.9</td>\n",
       "      <td>53.8</td>\n",
       "      <td>52.72</td>\n",
       "    </tr>\n",
       "    <tr>\n",
       "      <th>2</th>\n",
       "      <td>Akrotiri and Dhekelia</td>\n",
       "      <td>NaN</td>\n",
       "      <td>NaN</td>\n",
       "      <td>NaN</td>\n",
       "      <td>NaN</td>\n",
       "      <td>NaN</td>\n",
       "      <td>NaN</td>\n",
       "      <td>NaN</td>\n",
       "      <td>NaN</td>\n",
       "      <td>NaN</td>\n",
       "      <td>...</td>\n",
       "      <td>NaN</td>\n",
       "      <td>NaN</td>\n",
       "      <td>NaN</td>\n",
       "      <td>NaN</td>\n",
       "      <td>NaN</td>\n",
       "      <td>NaN</td>\n",
       "      <td>NaN</td>\n",
       "      <td>NaN</td>\n",
       "      <td>NaN</td>\n",
       "      <td>NaN</td>\n",
       "    </tr>\n",
       "    <tr>\n",
       "      <th>3</th>\n",
       "      <td>Albania</td>\n",
       "      <td>35.40</td>\n",
       "      <td>35.40</td>\n",
       "      <td>35.40</td>\n",
       "      <td>35.40</td>\n",
       "      <td>35.40</td>\n",
       "      <td>35.40</td>\n",
       "      <td>35.40</td>\n",
       "      <td>35.40</td>\n",
       "      <td>35.40</td>\n",
       "      <td>...</td>\n",
       "      <td>76.6</td>\n",
       "      <td>76.8</td>\n",
       "      <td>77.0</td>\n",
       "      <td>77.2</td>\n",
       "      <td>77.4</td>\n",
       "      <td>77.5</td>\n",
       "      <td>77.7</td>\n",
       "      <td>77.9</td>\n",
       "      <td>78.0</td>\n",
       "      <td>78.10</td>\n",
       "    </tr>\n",
       "    <tr>\n",
       "      <th>4</th>\n",
       "      <td>Algeria</td>\n",
       "      <td>28.82</td>\n",
       "      <td>28.82</td>\n",
       "      <td>28.82</td>\n",
       "      <td>28.82</td>\n",
       "      <td>28.82</td>\n",
       "      <td>28.82</td>\n",
       "      <td>28.82</td>\n",
       "      <td>28.82</td>\n",
       "      <td>28.82</td>\n",
       "      <td>...</td>\n",
       "      <td>75.3</td>\n",
       "      <td>75.5</td>\n",
       "      <td>75.7</td>\n",
       "      <td>76.0</td>\n",
       "      <td>76.1</td>\n",
       "      <td>76.2</td>\n",
       "      <td>76.3</td>\n",
       "      <td>76.3</td>\n",
       "      <td>76.4</td>\n",
       "      <td>76.50</td>\n",
       "    </tr>\n",
       "  </tbody>\n",
       "</table>\n",
       "<p>5 rows × 218 columns</p>\n",
       "</div>"
      ],
      "text/plain": [
       "         Life expectancy   1800   1801   1802   1803   1804   1805   1806  \\\n",
       "0               Abkhazia    NaN    NaN    NaN    NaN    NaN    NaN    NaN   \n",
       "1            Afghanistan  28.21  28.20  28.19  28.18  28.17  28.16  28.15   \n",
       "2  Akrotiri and Dhekelia    NaN    NaN    NaN    NaN    NaN    NaN    NaN   \n",
       "3                Albania  35.40  35.40  35.40  35.40  35.40  35.40  35.40   \n",
       "4                Algeria  28.82  28.82  28.82  28.82  28.82  28.82  28.82   \n",
       "\n",
       "    1807   1808  ...    2007  2008  2009  2010  2011  2012  2013  2014  2015  \\\n",
       "0    NaN    NaN  ...     NaN   NaN   NaN   NaN   NaN   NaN   NaN   NaN   NaN   \n",
       "1  28.14  28.13  ...    52.4  52.8  53.3  53.6  54.0  54.4  54.8  54.9  53.8   \n",
       "2    NaN    NaN  ...     NaN   NaN   NaN   NaN   NaN   NaN   NaN   NaN   NaN   \n",
       "3  35.40  35.40  ...    76.6  76.8  77.0  77.2  77.4  77.5  77.7  77.9  78.0   \n",
       "4  28.82  28.82  ...    75.3  75.5  75.7  76.0  76.1  76.2  76.3  76.3  76.4   \n",
       "\n",
       "    2016  \n",
       "0    NaN  \n",
       "1  52.72  \n",
       "2    NaN  \n",
       "3  78.10  \n",
       "4  76.50  \n",
       "\n",
       "[5 rows x 218 columns]"
      ]
     },
     "execution_count": 95,
     "metadata": {},
     "output_type": "execute_result"
    }
   ],
   "source": [
    "life_exp.head()"
   ]
  },
  {
   "cell_type": "markdown",
   "metadata": {},
   "source": [
    "Checking the 2005 histogram for distrubution as this year will be used later for analysis."
   ]
  },
  {
   "cell_type": "code",
   "execution_count": 96,
   "metadata": {
    "scrolled": false
   },
   "outputs": [
    {
     "data": {
      "image/png": "[encoded data removed]",
      "text/plain": [
       "<Figure size 432x288 with 1 Axes>"
      ]
     },
     "metadata": {},
     "output_type": "display_data"
    }
   ],
   "source": [
    "life_exp[2005].hist();"
   ]
  },
  {
   "cell_type": "code",
   "execution_count": 97,
   "metadata": {},
   "outputs": [
    {
     "name": "stdout",
     "output_type": "stream",
     "text": [
      "<class 'pandas.core.frame.DataFrame'>\n",
      "RangeIndex: 260 entries, 0 to 259\n",
      "Columns: 218 entries, Life expectancy to 2016\n",
      "dtypes: float64(217), object(1)\n",
      "memory usage: 442.9+ KB\n"
     ]
    }
   ],
   "source": [
    "life_exp.info()"
   ]
  },
  {
   "cell_type": "markdown",
   "metadata": {},
   "source": [
    "##### Moving to 2nd Excel file"
   ]
  },
  {
   "cell_type": "code",
   "execution_count": 98,
   "metadata": {},
   "outputs": [
    {
     "data": {
      "text/html": [
       "<div>\n",
       "<style scoped>\n",
       "    .dataframe tbody tr th:only-of-type {\n",
       "        vertical-align: middle;\n",
       "    }\n",
       "\n",
       "    .dataframe tbody tr th {\n",
       "        vertical-align: top;\n",
       "    }\n",
       "\n",
       "    .dataframe thead th {\n",
       "        text-align: right;\n",
       "    }\n",
       "</style>\n",
       "<table border=\"1\" class=\"dataframe\">\n",
       "  <thead>\n",
       "    <tr style=\"text-align: right;\">\n",
       "      <th></th>\n",
       "      <th>Prevalence of current tobacco use among adults (&gt;=15 years) (%) female</th>\n",
       "      <th>2000</th>\n",
       "      <th>2002</th>\n",
       "      <th>2005</th>\n",
       "    </tr>\n",
       "  </thead>\n",
       "  <tbody>\n",
       "    <tr>\n",
       "      <th>0</th>\n",
       "      <td>Algeria</td>\n",
       "      <td>0.3</td>\n",
       "      <td>0.3</td>\n",
       "      <td>0.3</td>\n",
       "    </tr>\n",
       "    <tr>\n",
       "      <th>1</th>\n",
       "      <td>Angola</td>\n",
       "      <td>NaN</td>\n",
       "      <td>NaN</td>\n",
       "      <td>NaN</td>\n",
       "    </tr>\n",
       "    <tr>\n",
       "      <th>2</th>\n",
       "      <td>Benin</td>\n",
       "      <td>NaN</td>\n",
       "      <td>NaN</td>\n",
       "      <td>NaN</td>\n",
       "    </tr>\n",
       "    <tr>\n",
       "      <th>3</th>\n",
       "      <td>Botswana</td>\n",
       "      <td>NaN</td>\n",
       "      <td>NaN</td>\n",
       "      <td>NaN</td>\n",
       "    </tr>\n",
       "    <tr>\n",
       "      <th>4</th>\n",
       "      <td>Burkina Faso</td>\n",
       "      <td>11.2</td>\n",
       "      <td>11.2</td>\n",
       "      <td>11.2</td>\n",
       "    </tr>\n",
       "  </tbody>\n",
       "</table>\n",
       "</div>"
      ],
      "text/plain": [
       "  Prevalence of current tobacco use among adults (>=15 years) (%) female  \\\n",
       "0                                            Algeria                       \n",
       "1                                             Angola                       \n",
       "2                                              Benin                       \n",
       "3                                           Botswana                       \n",
       "4                                       Burkina Faso                       \n",
       "\n",
       "   2000  2002  2005  \n",
       "0   0.3   0.3   0.3  \n",
       "1   NaN   NaN   NaN  \n",
       "2   NaN   NaN   NaN  \n",
       "3   NaN   NaN   NaN  \n",
       "4  11.2  11.2  11.2  "
      ]
     },
     "execution_count": 98,
     "metadata": {},
     "output_type": "execute_result"
    }
   ],
   "source": [
    "smk_female.head()"
   ]
  },
  {
   "cell_type": "code",
   "execution_count": 99,
   "metadata": {},
   "outputs": [
    {
     "name": "stdout",
     "output_type": "stream",
     "text": [
      "<class 'pandas.core.frame.DataFrame'>\n",
      "RangeIndex: 192 entries, 0 to 191\n",
      "Data columns (total 4 columns):\n",
      "Prevalence of current tobacco use among adults (>=15 years) (%) female    192 non-null object\n",
      "2000                                                                      131 non-null float64\n",
      "2002                                                                      131 non-null float64\n",
      "2005                                                                      131 non-null float64\n",
      "dtypes: float64(3), object(1)\n",
      "memory usage: 6.1+ KB\n"
     ]
    }
   ],
   "source": [
    "smk_female.info()"
   ]
  },
  {
   "cell_type": "markdown",
   "metadata": {},
   "source": [
    "Since the data is available for 3 years only, latest (2005) to be used for this analysis."
   ]
  },
  {
   "cell_type": "markdown",
   "metadata": {},
   "source": [
    "##### Moving to 3rd Excel file"
   ]
  },
  {
   "cell_type": "code",
   "execution_count": 100,
   "metadata": {},
   "outputs": [
    {
     "data": {
      "text/html": [
       "<div>\n",
       "<style scoped>\n",
       "    .dataframe tbody tr th:only-of-type {\n",
       "        vertical-align: middle;\n",
       "    }\n",
       "\n",
       "    .dataframe tbody tr th {\n",
       "        vertical-align: top;\n",
       "    }\n",
       "\n",
       "    .dataframe thead th {\n",
       "        text-align: right;\n",
       "    }\n",
       "</style>\n",
       "<table border=\"1\" class=\"dataframe\">\n",
       "  <thead>\n",
       "    <tr style=\"text-align: right;\">\n",
       "      <th></th>\n",
       "      <th>Prevalence of current tobacco use among adults (&gt;=15 years) (%) male</th>\n",
       "      <th>2002</th>\n",
       "      <th>2005</th>\n",
       "    </tr>\n",
       "  </thead>\n",
       "  <tbody>\n",
       "    <tr>\n",
       "      <th>0</th>\n",
       "      <td>Algeria</td>\n",
       "      <td>29.9</td>\n",
       "      <td>29.9</td>\n",
       "    </tr>\n",
       "    <tr>\n",
       "      <th>1</th>\n",
       "      <td>Angola</td>\n",
       "      <td>NaN</td>\n",
       "      <td>NaN</td>\n",
       "    </tr>\n",
       "    <tr>\n",
       "      <th>2</th>\n",
       "      <td>Benin</td>\n",
       "      <td>NaN</td>\n",
       "      <td>NaN</td>\n",
       "    </tr>\n",
       "    <tr>\n",
       "      <th>3</th>\n",
       "      <td>Botswana</td>\n",
       "      <td>NaN</td>\n",
       "      <td>NaN</td>\n",
       "    </tr>\n",
       "    <tr>\n",
       "      <th>4</th>\n",
       "      <td>Burkina Faso</td>\n",
       "      <td>22.0</td>\n",
       "      <td>22.0</td>\n",
       "    </tr>\n",
       "  </tbody>\n",
       "</table>\n",
       "</div>"
      ],
      "text/plain": [
       "  Prevalence of current tobacco use among adults (>=15 years) (%) male  2002  \\\n",
       "0                                            Algeria                    29.9   \n",
       "1                                             Angola                     NaN   \n",
       "2                                              Benin                     NaN   \n",
       "3                                           Botswana                     NaN   \n",
       "4                                       Burkina Faso                    22.0   \n",
       "\n",
       "   2005  \n",
       "0  29.9  \n",
       "1   NaN  \n",
       "2   NaN  \n",
       "3   NaN  \n",
       "4  22.0  "
      ]
     },
     "execution_count": 100,
     "metadata": {},
     "output_type": "execute_result"
    }
   ],
   "source": [
    "smk_male.head()"
   ]
  },
  {
   "cell_type": "code",
   "execution_count": 101,
   "metadata": {},
   "outputs": [
    {
     "name": "stdout",
     "output_type": "stream",
     "text": [
      "<class 'pandas.core.frame.DataFrame'>\n",
      "RangeIndex: 192 entries, 0 to 191\n",
      "Data columns (total 3 columns):\n",
      "Prevalence of current tobacco use among adults (>=15 years) (%) male    192 non-null object\n",
      "2002                                                                    131 non-null float64\n",
      "2005                                                                    131 non-null float64\n",
      "dtypes: float64(2), object(1)\n",
      "memory usage: 4.6+ KB\n"
     ]
    }
   ],
   "source": [
    "smk_male.info()"
   ]
  },
  {
   "cell_type": "markdown",
   "metadata": {},
   "source": [
    "##### Moving to 4th Excel file"
   ]
  },
  {
   "cell_type": "code",
   "execution_count": 102,
   "metadata": {},
   "outputs": [
    {
     "data": {
      "text/html": [
       "<div>\n",
       "<style scoped>\n",
       "    .dataframe tbody tr th:only-of-type {\n",
       "        vertical-align: middle;\n",
       "    }\n",
       "\n",
       "    .dataframe tbody tr th {\n",
       "        vertical-align: top;\n",
       "    }\n",
       "\n",
       "    .dataframe thead th {\n",
       "        text-align: right;\n",
       "    }\n",
       "</style>\n",
       "<table border=\"1\" class=\"dataframe\">\n",
       "  <thead>\n",
       "    <tr style=\"text-align: right;\">\n",
       "      <th></th>\n",
       "      <th>GNI per capita, Atlas method (current US$)</th>\n",
       "      <th>1962</th>\n",
       "      <th>1963</th>\n",
       "      <th>1964</th>\n",
       "      <th>1965</th>\n",
       "      <th>1966</th>\n",
       "      <th>1967</th>\n",
       "      <th>1968</th>\n",
       "      <th>1969</th>\n",
       "      <th>1970</th>\n",
       "      <th>...</th>\n",
       "      <th>2006</th>\n",
       "      <th>2007</th>\n",
       "      <th>2008</th>\n",
       "      <th>2009</th>\n",
       "      <th>2010</th>\n",
       "      <th>2011</th>\n",
       "      <th>2012</th>\n",
       "      <th>2013</th>\n",
       "      <th>2014</th>\n",
       "      <th>2015</th>\n",
       "    </tr>\n",
       "  </thead>\n",
       "  <tbody>\n",
       "    <tr>\n",
       "      <th>0</th>\n",
       "      <td>Aruba</td>\n",
       "      <td>NaN</td>\n",
       "      <td>NaN</td>\n",
       "      <td>NaN</td>\n",
       "      <td>NaN</td>\n",
       "      <td>NaN</td>\n",
       "      <td>NaN</td>\n",
       "      <td>NaN</td>\n",
       "      <td>NaN</td>\n",
       "      <td>NaN</td>\n",
       "      <td>...</td>\n",
       "      <td>NaN</td>\n",
       "      <td>NaN</td>\n",
       "      <td>NaN</td>\n",
       "      <td>NaN</td>\n",
       "      <td>NaN</td>\n",
       "      <td>NaN</td>\n",
       "      <td>NaN</td>\n",
       "      <td>NaN</td>\n",
       "      <td>NaN</td>\n",
       "      <td>NaN</td>\n",
       "    </tr>\n",
       "    <tr>\n",
       "      <th>1</th>\n",
       "      <td>Andorra</td>\n",
       "      <td>NaN</td>\n",
       "      <td>NaN</td>\n",
       "      <td>NaN</td>\n",
       "      <td>NaN</td>\n",
       "      <td>NaN</td>\n",
       "      <td>NaN</td>\n",
       "      <td>NaN</td>\n",
       "      <td>NaN</td>\n",
       "      <td>NaN</td>\n",
       "      <td>...</td>\n",
       "      <td>42740.0</td>\n",
       "      <td>44250.0</td>\n",
       "      <td>43760.0</td>\n",
       "      <td>44180.0</td>\n",
       "      <td>41670.0</td>\n",
       "      <td>40580.0</td>\n",
       "      <td>41010.0</td>\n",
       "      <td>43270.0</td>\n",
       "      <td>45655.0</td>\n",
       "      <td>48170.0</td>\n",
       "    </tr>\n",
       "    <tr>\n",
       "      <th>2</th>\n",
       "      <td>Afghanistan</td>\n",
       "      <td>NaN</td>\n",
       "      <td>NaN</td>\n",
       "      <td>NaN</td>\n",
       "      <td>NaN</td>\n",
       "      <td>NaN</td>\n",
       "      <td>NaN</td>\n",
       "      <td>NaN</td>\n",
       "      <td>NaN</td>\n",
       "      <td>NaN</td>\n",
       "      <td>...</td>\n",
       "      <td>280.0</td>\n",
       "      <td>340.0</td>\n",
       "      <td>370.0</td>\n",
       "      <td>470.0</td>\n",
       "      <td>520.0</td>\n",
       "      <td>570.0</td>\n",
       "      <td>690.0</td>\n",
       "      <td>690.0</td>\n",
       "      <td>670.0</td>\n",
       "      <td>651.0</td>\n",
       "    </tr>\n",
       "    <tr>\n",
       "      <th>3</th>\n",
       "      <td>Angola</td>\n",
       "      <td>NaN</td>\n",
       "      <td>NaN</td>\n",
       "      <td>NaN</td>\n",
       "      <td>NaN</td>\n",
       "      <td>NaN</td>\n",
       "      <td>NaN</td>\n",
       "      <td>NaN</td>\n",
       "      <td>NaN</td>\n",
       "      <td>NaN</td>\n",
       "      <td>...</td>\n",
       "      <td>1620.0</td>\n",
       "      <td>2350.0</td>\n",
       "      <td>3010.0</td>\n",
       "      <td>3490.0</td>\n",
       "      <td>3550.0</td>\n",
       "      <td>3690.0</td>\n",
       "      <td>4150.0</td>\n",
       "      <td>4730.0</td>\n",
       "      <td>4850.0</td>\n",
       "      <td>4973.0</td>\n",
       "    </tr>\n",
       "    <tr>\n",
       "      <th>4</th>\n",
       "      <td>Albania</td>\n",
       "      <td>NaN</td>\n",
       "      <td>NaN</td>\n",
       "      <td>NaN</td>\n",
       "      <td>NaN</td>\n",
       "      <td>NaN</td>\n",
       "      <td>NaN</td>\n",
       "      <td>NaN</td>\n",
       "      <td>NaN</td>\n",
       "      <td>NaN</td>\n",
       "      <td>...</td>\n",
       "      <td>3120.0</td>\n",
       "      <td>3530.0</td>\n",
       "      <td>4080.0</td>\n",
       "      <td>4280.0</td>\n",
       "      <td>4360.0</td>\n",
       "      <td>4390.0</td>\n",
       "      <td>4370.0</td>\n",
       "      <td>4510.0</td>\n",
       "      <td>4460.0</td>\n",
       "      <td>4411.0</td>\n",
       "    </tr>\n",
       "  </tbody>\n",
       "</table>\n",
       "<p>5 rows × 55 columns</p>\n",
       "</div>"
      ],
      "text/plain": [
       "  GNI per capita, Atlas method (current US$)  1962  1963  1964  1965  1966  \\\n",
       "0                                      Aruba   NaN   NaN   NaN   NaN   NaN   \n",
       "1                                    Andorra   NaN   NaN   NaN   NaN   NaN   \n",
       "2                                Afghanistan   NaN   NaN   NaN   NaN   NaN   \n",
       "3                                     Angola   NaN   NaN   NaN   NaN   NaN   \n",
       "4                                    Albania   NaN   NaN   NaN   NaN   NaN   \n",
       "\n",
       "   1967  1968  1969  1970   ...        2006     2007     2008     2009  \\\n",
       "0   NaN   NaN   NaN   NaN   ...         NaN      NaN      NaN      NaN   \n",
       "1   NaN   NaN   NaN   NaN   ...     42740.0  44250.0  43760.0  44180.0   \n",
       "2   NaN   NaN   NaN   NaN   ...       280.0    340.0    370.0    470.0   \n",
       "3   NaN   NaN   NaN   NaN   ...      1620.0   2350.0   3010.0   3490.0   \n",
       "4   NaN   NaN   NaN   NaN   ...      3120.0   3530.0   4080.0   4280.0   \n",
       "\n",
       "      2010     2011     2012     2013     2014     2015  \n",
       "0      NaN      NaN      NaN      NaN      NaN      NaN  \n",
       "1  41670.0  40580.0  41010.0  43270.0  45655.0  48170.0  \n",
       "2    520.0    570.0    690.0    690.0    670.0    651.0  \n",
       "3   3550.0   3690.0   4150.0   4730.0   4850.0   4973.0  \n",
       "4   4360.0   4390.0   4370.0   4510.0   4460.0   4411.0  \n",
       "\n",
       "[5 rows x 55 columns]"
      ]
     },
     "execution_count": 102,
     "metadata": {},
     "output_type": "execute_result"
    }
   ],
   "source": [
    "gnipc.head()"
   ]
  },
  {
   "cell_type": "markdown",
   "metadata": {},
   "source": [
    "Checking for number of null values"
   ]
  },
  {
   "cell_type": "code",
   "execution_count": 103,
   "metadata": {},
   "outputs": [
    {
     "data": {
      "text/plain": [
       "24"
      ]
     },
     "execution_count": 103,
     "metadata": {},
     "output_type": "execute_result"
    }
   ],
   "source": [
    "gnipc['2005'].isnull().sum()"
   ]
  },
  {
   "cell_type": "code",
   "execution_count": 104,
   "metadata": {},
   "outputs": [
    {
     "data": {
      "text/plain": [
       "(249, 55)"
      ]
     },
     "execution_count": 104,
     "metadata": {},
     "output_type": "execute_result"
    }
   ],
   "source": [
    "gnipc.shape"
   ]
  },
  {
   "cell_type": "markdown",
   "metadata": {},
   "source": [
    "#### Since all the files have 1st column named with file description, replacing the column 1 name with country name"
   ]
  },
  {
   "cell_type": "code",
   "execution_count": 105,
   "metadata": {},
   "outputs": [],
   "source": [
    "#Replacing the column 1 name with country name\n",
    "life_exp = life_exp.rename(columns={life_exp.columns[0]: 'Country'}) \n",
    "smk_male = smk_male.rename(columns={smk_male.columns[0]: 'Country'}) \n",
    "smk_female = smk_female.rename(columns={smk_female.columns[0]: 'Country'}) \n",
    "gnipc = gnipc.rename(columns={gnipc.columns[0]: 'Country'}) "
   ]
  },
  {
   "cell_type": "markdown",
   "metadata": {},
   "source": [
    "# Data Cleaning (Selecting Year and removing the null values)"
   ]
  },
  {
   "cell_type": "markdown",
   "metadata": {},
   "source": [
    "Based on initial analysis of data type and null values in data, in this section we will proceed with further cleaning the data. For each of the sub data set, null values will be removed and time range of analysis will be set (depending on data available)."
   ]
  },
  {
   "cell_type": "markdown",
   "metadata": {},
   "source": [
    "##  Case-1: Oil Reservoir,Production & Consumption trends. Also how GNI of oil producing nations appears.\n",
    "Since the latest available data for oil_proven (proven oil resources) is for 2008, let's focus on 2008 data. <br> Data below from 4 df's: <br>\n",
    " >i)  oil_prod: Oil Produced <br>\n",
    " >ii) oil_proven: Proven oil resources <br>\n",
    " >iii)oil_consume: Oil consumed  <br>\n",
    " >iv) gni: total gross net income converted to international dollars using PPP rates <br>"
   ]
  },
  {
   "cell_type": "markdown",
   "metadata": {},
   "source": [
    "### oil_prod : Oil Produced in TOE"
   ]
  },
  {
   "cell_type": "markdown",
   "metadata": {},
   "source": [
    "Columns (Country and 2008(year)) are selected for analysis, null values dropped and renamed the column to prepare the data for merge later."
   ]
  },
  {
   "cell_type": "code",
   "execution_count": 106,
   "metadata": {},
   "outputs": [
    {
     "data": {
      "text/html": [
       "<div>\n",
       "<style scoped>\n",
       "    .dataframe tbody tr th:only-of-type {\n",
       "        vertical-align: middle;\n",
       "    }\n",
       "\n",
       "    .dataframe tbody tr th {\n",
       "        vertical-align: top;\n",
       "    }\n",
       "\n",
       "    .dataframe thead th {\n",
       "        text-align: right;\n",
       "    }\n",
       "</style>\n",
       "<table border=\"1\" class=\"dataframe\">\n",
       "  <thead>\n",
       "    <tr style=\"text-align: right;\">\n",
       "      <th></th>\n",
       "      <th>Country</th>\n",
       "      <th>oil_production</th>\n",
       "    </tr>\n",
       "  </thead>\n",
       "  <tbody>\n",
       "    <tr>\n",
       "      <th>4</th>\n",
       "      <td>Algeria</td>\n",
       "      <td>8.562018e+07</td>\n",
       "    </tr>\n",
       "    <tr>\n",
       "      <th>7</th>\n",
       "      <td>Angola</td>\n",
       "      <td>9.347852e+07</td>\n",
       "    </tr>\n",
       "    <tr>\n",
       "      <th>10</th>\n",
       "      <td>Argentina</td>\n",
       "      <td>3.412383e+07</td>\n",
       "    </tr>\n",
       "    <tr>\n",
       "      <th>13</th>\n",
       "      <td>Australia</td>\n",
       "      <td>2.435672e+07</td>\n",
       "    </tr>\n",
       "    <tr>\n",
       "      <th>15</th>\n",
       "      <td>Azerbaijan</td>\n",
       "      <td>4.474850e+07</td>\n",
       "    </tr>\n",
       "  </tbody>\n",
       "</table>\n",
       "</div>"
      ],
      "text/plain": [
       "       Country  oil_production\n",
       "4      Algeria    8.562018e+07\n",
       "7       Angola    9.347852e+07\n",
       "10   Argentina    3.412383e+07\n",
       "13   Australia    2.435672e+07\n",
       "15  Azerbaijan    4.474850e+07"
      ]
     },
     "execution_count": 106,
     "metadata": {},
     "output_type": "execute_result"
    }
   ],
   "source": [
    "# Selecting columns\n",
    "oil_prod = oil_prod[['Country',2008]]\n",
    "\n",
    "# Dropping null values\n",
    "\n",
    "oil_prod = oil_prod.dropna()\n",
    "\n",
    "#Renaming column\n",
    "\n",
    "oil_prod.rename (columns={2008: 'oil_production'}, inplace = True)\n",
    "oil_prod.head()"
   ]
  },
  {
   "cell_type": "markdown",
   "metadata": {},
   "source": [
    "As the value of oil produced is in toe, for better visualization converting from toe (tonne of equivalent) to mtoe(million tonne of equivalent)"
   ]
  },
  {
   "cell_type": "code",
   "execution_count": 107,
   "metadata": {},
   "outputs": [],
   "source": [
    "# Unit coversion\n",
    "oil_prod['oil_production']= oil_prod['oil_production']*.0000001"
   ]
  },
  {
   "cell_type": "markdown",
   "metadata": {},
   "source": [
    "### oil_proven : Proven oil resources in TOE"
   ]
  },
  {
   "cell_type": "markdown",
   "metadata": {},
   "source": [
    "Columns (Country and 2008(year)) are selected for analysis, null values dropped and renamed the column to prepare the data for merge later."
   ]
  },
  {
   "cell_type": "code",
   "execution_count": 108,
   "metadata": {},
   "outputs": [
    {
     "data": {
      "text/html": [
       "<div>\n",
       "<style scoped>\n",
       "    .dataframe tbody tr th:only-of-type {\n",
       "        vertical-align: middle;\n",
       "    }\n",
       "\n",
       "    .dataframe tbody tr th {\n",
       "        vertical-align: top;\n",
       "    }\n",
       "\n",
       "    .dataframe thead th {\n",
       "        text-align: right;\n",
       "    }\n",
       "</style>\n",
       "<table border=\"1\" class=\"dataframe\">\n",
       "  <thead>\n",
       "    <tr style=\"text-align: right;\">\n",
       "      <th></th>\n",
       "      <th>Country</th>\n",
       "      <th>oil_proven</th>\n",
       "    </tr>\n",
       "  </thead>\n",
       "  <tbody>\n",
       "    <tr>\n",
       "      <th>0</th>\n",
       "      <td>Algeria</td>\n",
       "      <td>1664080000</td>\n",
       "    </tr>\n",
       "    <tr>\n",
       "      <th>1</th>\n",
       "      <td>Angola</td>\n",
       "      <td>1841400000</td>\n",
       "    </tr>\n",
       "    <tr>\n",
       "      <th>2</th>\n",
       "      <td>Argentina</td>\n",
       "      <td>356825175</td>\n",
       "    </tr>\n",
       "    <tr>\n",
       "      <th>3</th>\n",
       "      <td>Australia</td>\n",
       "      <td>567151200</td>\n",
       "    </tr>\n",
       "    <tr>\n",
       "      <th>4</th>\n",
       "      <td>Azerbaijan</td>\n",
       "      <td>954800000</td>\n",
       "    </tr>\n",
       "  </tbody>\n",
       "</table>\n",
       "</div>"
      ],
      "text/plain": [
       "      Country  oil_proven\n",
       "0     Algeria  1664080000\n",
       "1      Angola  1841400000\n",
       "2   Argentina   356825175\n",
       "3   Australia   567151200\n",
       "4  Azerbaijan   954800000"
      ]
     },
     "execution_count": 108,
     "metadata": {},
     "output_type": "execute_result"
    }
   ],
   "source": [
    "# Selecting the country and specifying year\n",
    "oil_proven = oil_proven[['Country',2008]]\n",
    "\n",
    "# Dropping null values\n",
    "\n",
    "oil_proven = oil_proven.dropna()\n",
    "\n",
    "#renaming to prepare the data for merge later\n",
    "\n",
    "oil_proven.rename (columns={2008: 'oil_proven'}, inplace = True)\n",
    "\n",
    "oil_proven.head()"
   ]
  },
  {
   "cell_type": "markdown",
   "metadata": {},
   "source": [
    "As the value of oil reservoir is in toe, for better visualization converting from toe (tonne of equivalent) to mtoe(million tonne of equivalent)"
   ]
  },
  {
   "cell_type": "code",
   "execution_count": 109,
   "metadata": {},
   "outputs": [],
   "source": [
    "# Unit conversion\n",
    "oil_proven['oil_proven'] = oil_proven['oil_proven']*.0000001"
   ]
  },
  {
   "cell_type": "markdown",
   "metadata": {},
   "source": [
    "### oil_consume : Oil Consumed in TOE"
   ]
  },
  {
   "cell_type": "markdown",
   "metadata": {},
   "source": [
    "Columns (Country and 2008(year)) are selected for analysis, null values dropped and renamed the column to prepare the data for merge later."
   ]
  },
  {
   "cell_type": "code",
   "execution_count": 110,
   "metadata": {},
   "outputs": [
    {
     "data": {
      "text/html": [
       "<div>\n",
       "<style scoped>\n",
       "    .dataframe tbody tr th:only-of-type {\n",
       "        vertical-align: middle;\n",
       "    }\n",
       "\n",
       "    .dataframe tbody tr th {\n",
       "        vertical-align: top;\n",
       "    }\n",
       "\n",
       "    .dataframe thead th {\n",
       "        text-align: right;\n",
       "    }\n",
       "</style>\n",
       "<table border=\"1\" class=\"dataframe\">\n",
       "  <thead>\n",
       "    <tr style=\"text-align: right;\">\n",
       "      <th></th>\n",
       "      <th>Country</th>\n",
       "      <th>oil_consume</th>\n",
       "    </tr>\n",
       "  </thead>\n",
       "  <tbody>\n",
       "    <tr>\n",
       "      <th>0</th>\n",
       "      <td>Algeria</td>\n",
       "      <td>14012890</td>\n",
       "    </tr>\n",
       "    <tr>\n",
       "      <th>1</th>\n",
       "      <td>Argentina</td>\n",
       "      <td>24219411</td>\n",
       "    </tr>\n",
       "    <tr>\n",
       "      <th>2</th>\n",
       "      <td>Australia</td>\n",
       "      <td>42461108</td>\n",
       "    </tr>\n",
       "    <tr>\n",
       "      <th>3</th>\n",
       "      <td>Austria</td>\n",
       "      <td>13421000</td>\n",
       "    </tr>\n",
       "    <tr>\n",
       "      <th>4</th>\n",
       "      <td>Azerbaijan</td>\n",
       "      <td>3340300</td>\n",
       "    </tr>\n",
       "  </tbody>\n",
       "</table>\n",
       "</div>"
      ],
      "text/plain": [
       "      Country  oil_consume\n",
       "0     Algeria     14012890\n",
       "1   Argentina     24219411\n",
       "2   Australia     42461108\n",
       "3     Austria     13421000\n",
       "4  Azerbaijan      3340300"
      ]
     },
     "execution_count": 110,
     "metadata": {},
     "output_type": "execute_result"
    }
   ],
   "source": [
    "# Selecting the country and specifying year\n",
    "oil_consume = oil_consume[['Country',2008]]\n",
    "\n",
    "# Dropping null values\n",
    "\n",
    "oil_consume = oil_consume.dropna()\n",
    "\n",
    "#renaming to prepare the data for merge later\n",
    "\n",
    "oil_consume.rename (columns={2008: 'oil_consume'}, inplace = True)\n",
    "oil_consume.head()"
   ]
  },
  {
   "cell_type": "markdown",
   "metadata": {},
   "source": [
    "As the value of oil consumption is in toe, for better visualization converting from toe (tonne of equivalent) to mtoe(million tonne of equivalent)"
   ]
  },
  {
   "cell_type": "code",
   "execution_count": 111,
   "metadata": {},
   "outputs": [],
   "source": [
    "# Unit conversion\n",
    "oil_consume['oil_consume'] = oil_consume['oil_consume']*.0000001"
   ]
  },
  {
   "cell_type": "markdown",
   "metadata": {},
   "source": [
    "### gni_oil : total gross net income ($) converted to international dollars using PPP rates"
   ]
  },
  {
   "cell_type": "markdown",
   "metadata": {},
   "source": [
    "Columns (Country and 2008(year)) are selected for analysis, null values dropped and renamed the column to prepare the data for merge later."
   ]
  },
  {
   "cell_type": "code",
   "execution_count": 112,
   "metadata": {},
   "outputs": [
    {
     "data": {
      "text/html": [
       "<div>\n",
       "<style scoped>\n",
       "    .dataframe tbody tr th:only-of-type {\n",
       "        vertical-align: middle;\n",
       "    }\n",
       "\n",
       "    .dataframe tbody tr th {\n",
       "        vertical-align: top;\n",
       "    }\n",
       "\n",
       "    .dataframe thead th {\n",
       "        text-align: right;\n",
       "    }\n",
       "</style>\n",
       "<table border=\"1\" class=\"dataframe\">\n",
       "  <thead>\n",
       "    <tr style=\"text-align: right;\">\n",
       "      <th></th>\n",
       "      <th>Country</th>\n",
       "      <th>gni_oil</th>\n",
       "    </tr>\n",
       "  </thead>\n",
       "  <tbody>\n",
       "    <tr>\n",
       "      <th>1</th>\n",
       "      <td>Afghanistan</td>\n",
       "      <td>2.809452e+10</td>\n",
       "    </tr>\n",
       "    <tr>\n",
       "      <th>3</th>\n",
       "      <td>Albania</td>\n",
       "      <td>2.635538e+10</td>\n",
       "    </tr>\n",
       "    <tr>\n",
       "      <th>4</th>\n",
       "      <td>Algeria</td>\n",
       "      <td>2.732739e+11</td>\n",
       "    </tr>\n",
       "    <tr>\n",
       "      <th>7</th>\n",
       "      <td>Angola</td>\n",
       "      <td>8.468289e+10</td>\n",
       "    </tr>\n",
       "    <tr>\n",
       "      <th>9</th>\n",
       "      <td>Antigua and Barbuda</td>\n",
       "      <td>1.677932e+09</td>\n",
       "    </tr>\n",
       "  </tbody>\n",
       "</table>\n",
       "</div>"
      ],
      "text/plain": [
       "               Country       gni_oil\n",
       "1          Afghanistan  2.809452e+10\n",
       "3              Albania  2.635538e+10\n",
       "4              Algeria  2.732739e+11\n",
       "7               Angola  8.468289e+10\n",
       "9  Antigua and Barbuda  1.677932e+09"
      ]
     },
     "execution_count": 112,
     "metadata": {},
     "output_type": "execute_result"
    }
   ],
   "source": [
    "# Selecting the country and specifying year\n",
    "gni_oil = gni.iloc[:,[0,48]]\n",
    "\n",
    "# Dropping null values\n",
    "\n",
    "gni_oil = gni_oil.dropna()\n",
    "\n",
    "#renaming to prepare the data for merge later\n",
    "\n",
    "gni_oil.rename (columns = {'2008' : 'gni_oil'}, inplace = True)\n",
    "gni_oil.head()"
   ]
  },
  {
   "cell_type": "markdown",
   "metadata": {},
   "source": [
    "As the value of gni is in (\\$) for better visualization converting from (\\$) to million (m\\$)"
   ]
  },
  {
   "cell_type": "code",
   "execution_count": 113,
   "metadata": {},
   "outputs": [],
   "source": [
    "# Unit conversion\n",
    "gni_oil['gni_oil'] = gni_oil['gni_oil']*.0000001"
   ]
  },
  {
   "cell_type": "markdown",
   "metadata": {},
   "source": [
    "### Merging the data for charts"
   ]
  },
  {
   "cell_type": "markdown",
   "metadata": {},
   "source": [
    "Cleaned up data is now merged using inner method. Also a consumption ratio is calculated, which will be used in next section for EDA. <br>\n",
    "Merged data will be stored under oil_trend_gni."
   ]
  },
  {
   "cell_type": "code",
   "execution_count": 114,
   "metadata": {
    "scrolled": false
   },
   "outputs": [
    {
     "data": {
      "text/html": [
       "<div>\n",
       "<style scoped>\n",
       "    .dataframe tbody tr th:only-of-type {\n",
       "        vertical-align: middle;\n",
       "    }\n",
       "\n",
       "    .dataframe tbody tr th {\n",
       "        vertical-align: top;\n",
       "    }\n",
       "\n",
       "    .dataframe thead th {\n",
       "        text-align: right;\n",
       "    }\n",
       "</style>\n",
       "<table border=\"1\" class=\"dataframe\">\n",
       "  <thead>\n",
       "    <tr style=\"text-align: right;\">\n",
       "      <th></th>\n",
       "      <th>Country</th>\n",
       "      <th>oil_consume</th>\n",
       "      <th>oil_proven</th>\n",
       "      <th>oil_production</th>\n",
       "      <th>gni_oil</th>\n",
       "    </tr>\n",
       "  </thead>\n",
       "  <tbody>\n",
       "    <tr>\n",
       "      <th>0</th>\n",
       "      <td>Algeria</td>\n",
       "      <td>1.401289</td>\n",
       "      <td>166.408000</td>\n",
       "      <td>8.562018</td>\n",
       "      <td>27327.394520</td>\n",
       "    </tr>\n",
       "    <tr>\n",
       "      <th>1</th>\n",
       "      <td>Argentina</td>\n",
       "      <td>2.421941</td>\n",
       "      <td>35.682517</td>\n",
       "      <td>3.412383</td>\n",
       "      <td>55984.440152</td>\n",
       "    </tr>\n",
       "    <tr>\n",
       "      <th>2</th>\n",
       "      <td>Australia</td>\n",
       "      <td>4.246111</td>\n",
       "      <td>56.715120</td>\n",
       "      <td>2.435672</td>\n",
       "      <td>77227.646570</td>\n",
       "    </tr>\n",
       "    <tr>\n",
       "      <th>3</th>\n",
       "      <td>Azerbaijan</td>\n",
       "      <td>0.334030</td>\n",
       "      <td>95.480000</td>\n",
       "      <td>4.474850</td>\n",
       "      <td>6810.902768</td>\n",
       "    </tr>\n",
       "    <tr>\n",
       "      <th>4</th>\n",
       "      <td>Brazil</td>\n",
       "      <td>10.534621</td>\n",
       "      <td>172.389413</td>\n",
       "      <td>9.924282</td>\n",
       "      <td>194582.398063</td>\n",
       "    </tr>\n",
       "    <tr>\n",
       "      <th>5</th>\n",
       "      <td>Canada</td>\n",
       "      <td>10.202961</td>\n",
       "      <td>390.262704</td>\n",
       "      <td>15.590015</td>\n",
       "      <td>128254.438036</td>\n",
       "    </tr>\n",
       "    <tr>\n",
       "      <th>6</th>\n",
       "      <td>China</td>\n",
       "      <td>37.570980</td>\n",
       "      <td>210.900316</td>\n",
       "      <td>19.043960</td>\n",
       "      <td>824719.141949</td>\n",
       "    </tr>\n",
       "    <tr>\n",
       "      <th>7</th>\n",
       "      <td>Colombia</td>\n",
       "      <td>1.072379</td>\n",
       "      <td>18.577680</td>\n",
       "      <td>3.199686</td>\n",
       "      <td>38625.815760</td>\n",
       "    </tr>\n",
       "    <tr>\n",
       "      <th>8</th>\n",
       "      <td>Denmark</td>\n",
       "      <td>0.892800</td>\n",
       "      <td>11.067299</td>\n",
       "      <td>1.403500</td>\n",
       "      <td>22227.020682</td>\n",
       "    </tr>\n",
       "    <tr>\n",
       "      <th>9</th>\n",
       "      <td>Ecuador</td>\n",
       "      <td>0.928015</td>\n",
       "      <td>52.071614</td>\n",
       "      <td>2.741486</td>\n",
       "      <td>10584.750702</td>\n",
       "    </tr>\n",
       "    <tr>\n",
       "      <th>10</th>\n",
       "      <td>Egypt</td>\n",
       "      <td>3.261800</td>\n",
       "      <td>59.197600</td>\n",
       "      <td>3.464000</td>\n",
       "      <td>44724.729897</td>\n",
       "    </tr>\n",
       "    <tr>\n",
       "      <th>11</th>\n",
       "      <td>India</td>\n",
       "      <td>13.501100</td>\n",
       "      <td>79.086084</td>\n",
       "      <td>3.613500</td>\n",
       "      <td>338727.812490</td>\n",
       "    </tr>\n",
       "    <tr>\n",
       "      <th>12</th>\n",
       "      <td>Indonesia</td>\n",
       "      <td>5.735734</td>\n",
       "      <td>51.115900</td>\n",
       "      <td>4.897721</td>\n",
       "      <td>87822.858243</td>\n",
       "    </tr>\n",
       "    <tr>\n",
       "      <th>13</th>\n",
       "      <td>Iran</td>\n",
       "      <td>8.326746</td>\n",
       "      <td>1877.136800</td>\n",
       "      <td>21.297562</td>\n",
       "      <td>80993.476005</td>\n",
       "    </tr>\n",
       "    <tr>\n",
       "      <th>14</th>\n",
       "      <td>Italy</td>\n",
       "      <td>8.090400</td>\n",
       "      <td>11.440039</td>\n",
       "      <td>0.523590</td>\n",
       "      <td>197494.103818</td>\n",
       "    </tr>\n",
       "    <tr>\n",
       "      <th>15</th>\n",
       "      <td>Kazakhstan</td>\n",
       "      <td>1.089290</td>\n",
       "      <td>543.253920</td>\n",
       "      <td>7.204990</td>\n",
       "      <td>15234.565267</td>\n",
       "    </tr>\n",
       "    <tr>\n",
       "      <th>16</th>\n",
       "      <td>Kuwait</td>\n",
       "      <td>1.527401</td>\n",
       "      <td>1384.460000</td>\n",
       "      <td>13.581319</td>\n",
       "      <td>14827.410949</td>\n",
       "    </tr>\n",
       "    <tr>\n",
       "      <th>17</th>\n",
       "      <td>Malaysia</td>\n",
       "      <td>2.180083</td>\n",
       "      <td>74.474400</td>\n",
       "      <td>3.205164</td>\n",
       "      <td>37443.140067</td>\n",
       "    </tr>\n",
       "    <tr>\n",
       "      <th>18</th>\n",
       "      <td>Mexico</td>\n",
       "      <td>9.002922</td>\n",
       "      <td>161.906800</td>\n",
       "      <td>15.764929</td>\n",
       "      <td>160622.828860</td>\n",
       "    </tr>\n",
       "    <tr>\n",
       "      <th>19</th>\n",
       "      <td>Norway</td>\n",
       "      <td>0.975270</td>\n",
       "      <td>102.318726</td>\n",
       "      <td>11.419211</td>\n",
       "      <td>29114.239035</td>\n",
       "    </tr>\n",
       "  </tbody>\n",
       "</table>\n",
       "</div>"
      ],
      "text/plain": [
       "       Country  oil_consume   oil_proven  oil_production        gni_oil\n",
       "0      Algeria     1.401289   166.408000        8.562018   27327.394520\n",
       "1    Argentina     2.421941    35.682517        3.412383   55984.440152\n",
       "2    Australia     4.246111    56.715120        2.435672   77227.646570\n",
       "3   Azerbaijan     0.334030    95.480000        4.474850    6810.902768\n",
       "4       Brazil    10.534621   172.389413        9.924282  194582.398063\n",
       "5       Canada    10.202961   390.262704       15.590015  128254.438036\n",
       "6        China    37.570980   210.900316       19.043960  824719.141949\n",
       "7     Colombia     1.072379    18.577680        3.199686   38625.815760\n",
       "8      Denmark     0.892800    11.067299        1.403500   22227.020682\n",
       "9      Ecuador     0.928015    52.071614        2.741486   10584.750702\n",
       "10       Egypt     3.261800    59.197600        3.464000   44724.729897\n",
       "11       India    13.501100    79.086084        3.613500  338727.812490\n",
       "12   Indonesia     5.735734    51.115900        4.897721   87822.858243\n",
       "13        Iran     8.326746  1877.136800       21.297562   80993.476005\n",
       "14       Italy     8.090400    11.440039        0.523590  197494.103818\n",
       "15  Kazakhstan     1.089290   543.253920        7.204990   15234.565267\n",
       "16      Kuwait     1.527401  1384.460000       13.581319   14827.410949\n",
       "17    Malaysia     2.180083    74.474400        3.205164   37443.140067\n",
       "18      Mexico     9.002922   161.906800       15.764929  160622.828860\n",
       "19      Norway     0.975270   102.318726       11.419211   29114.239035"
      ]
     },
     "execution_count": 114,
     "metadata": {},
     "output_type": "execute_result"
    }
   ],
   "source": [
    "oil_pro_merge = oil_proven.merge(oil_prod, how = 'inner', left_on = 'Country', right_on = 'Country')\n",
    "oil_trend = oil_consume.merge(oil_pro_merge,how = 'inner', left_on = 'Country', right_on = 'Country')\n",
    "oil_trend_gni = oil_trend.merge(gni_oil, how = 'inner', left_on = 'Country', right_on = 'Country')\n",
    "oil_trend_gni.head(20)"
   ]
  },
  {
   "cell_type": "markdown",
   "metadata": {},
   "source": [
    "### Defining functions to calculate new variables and create nations categories."
   ]
  },
  {
   "cell_type": "markdown",
   "metadata": {},
   "source": [
    "Consumption ratio looks at how much oil is consumed by a nation compared to the produced one."
   ]
  },
  {
   "cell_type": "code",
   "execution_count": 123,
   "metadata": {},
   "outputs": [],
   "source": [
    "# Function for consumption ratio\n",
    "def cratio(row):\n",
    "    return row['oil_consume']/row['oil_production']"
   ]
  },
  {
   "cell_type": "markdown",
   "metadata": {},
   "source": [
    "Create a column for consumption ratio using function defined above."
   ]
  },
  {
   "cell_type": "code",
   "execution_count": 124,
   "metadata": {},
   "outputs": [],
   "source": [
    "# Adding consumption ratio using cratio function\n",
    "oil_trend_gni['consumption_ratio'] = oil_trend_gni.apply(cratio,axis=1)"
   ]
  },
  {
   "cell_type": "markdown",
   "metadata": {},
   "source": [
    "Based on consumption ratio, we can now classify the nation as exporter or importer. If the ratio is above 1 then they need more oil than they produce, hence importer."
   ]
  },
  {
   "cell_type": "code",
   "execution_count": 128,
   "metadata": {},
   "outputs": [],
   "source": [
    "# Function for category of nation\n",
    "def category(row):\n",
    "    if row['consumption_ratio']<1:\n",
    "        value = 'exporter'\n",
    "    else:\n",
    "        value = 'importer'\n",
    "    return value"
   ]
  },
  {
   "cell_type": "markdown",
   "metadata": {},
   "source": [
    "Create a column for nation category (exporter or importer)"
   ]
  },
  {
   "cell_type": "code",
   "execution_count": 129,
   "metadata": {},
   "outputs": [],
   "source": [
    "# Adding nation category, using category function\n",
    "oil_trend_gni ['nation_category'] = oil_trend_gni.apply(category,axis=1)"
   ]
  },
  {
   "cell_type": "markdown",
   "metadata": {},
   "source": [
    "To check if the columns are added correctly, let's check the header information."
   ]
  },
  {
   "cell_type": "code",
   "execution_count": 130,
   "metadata": {},
   "outputs": [
    {
     "data": {
      "text/html": [
       "<div>\n",
       "<style scoped>\n",
       "    .dataframe tbody tr th:only-of-type {\n",
       "        vertical-align: middle;\n",
       "    }\n",
       "\n",
       "    .dataframe tbody tr th {\n",
       "        vertical-align: top;\n",
       "    }\n",
       "\n",
       "    .dataframe thead th {\n",
       "        text-align: right;\n",
       "    }\n",
       "</style>\n",
       "<table border=\"1\" class=\"dataframe\">\n",
       "  <thead>\n",
       "    <tr style=\"text-align: right;\">\n",
       "      <th></th>\n",
       "      <th>Country</th>\n",
       "      <th>oil_consume</th>\n",
       "      <th>oil_proven</th>\n",
       "      <th>oil_production</th>\n",
       "      <th>gni_oil</th>\n",
       "      <th>consumption_ratio</th>\n",
       "      <th>nation_category</th>\n",
       "    </tr>\n",
       "  </thead>\n",
       "  <tbody>\n",
       "    <tr>\n",
       "      <th>0</th>\n",
       "      <td>Algeria</td>\n",
       "      <td>1.401289</td>\n",
       "      <td>166.408000</td>\n",
       "      <td>8.562018</td>\n",
       "      <td>27327.394520</td>\n",
       "      <td>0.163663</td>\n",
       "      <td>exporter</td>\n",
       "    </tr>\n",
       "    <tr>\n",
       "      <th>1</th>\n",
       "      <td>Argentina</td>\n",
       "      <td>2.421941</td>\n",
       "      <td>35.682517</td>\n",
       "      <td>3.412383</td>\n",
       "      <td>55984.440152</td>\n",
       "      <td>0.709751</td>\n",
       "      <td>exporter</td>\n",
       "    </tr>\n",
       "    <tr>\n",
       "      <th>2</th>\n",
       "      <td>Australia</td>\n",
       "      <td>4.246111</td>\n",
       "      <td>56.715120</td>\n",
       "      <td>2.435672</td>\n",
       "      <td>77227.646570</td>\n",
       "      <td>1.743301</td>\n",
       "      <td>importer</td>\n",
       "    </tr>\n",
       "    <tr>\n",
       "      <th>3</th>\n",
       "      <td>Azerbaijan</td>\n",
       "      <td>0.334030</td>\n",
       "      <td>95.480000</td>\n",
       "      <td>4.474850</td>\n",
       "      <td>6810.902768</td>\n",
       "      <td>0.074646</td>\n",
       "      <td>exporter</td>\n",
       "    </tr>\n",
       "    <tr>\n",
       "      <th>4</th>\n",
       "      <td>Brazil</td>\n",
       "      <td>10.534621</td>\n",
       "      <td>172.389413</td>\n",
       "      <td>9.924282</td>\n",
       "      <td>194582.398063</td>\n",
       "      <td>1.061500</td>\n",
       "      <td>importer</td>\n",
       "    </tr>\n",
       "  </tbody>\n",
       "</table>\n",
       "</div>"
      ],
      "text/plain": [
       "      Country  oil_consume  oil_proven  oil_production        gni_oil  \\\n",
       "0     Algeria     1.401289  166.408000        8.562018   27327.394520   \n",
       "1   Argentina     2.421941   35.682517        3.412383   55984.440152   \n",
       "2   Australia     4.246111   56.715120        2.435672   77227.646570   \n",
       "3  Azerbaijan     0.334030   95.480000        4.474850    6810.902768   \n",
       "4      Brazil    10.534621  172.389413        9.924282  194582.398063   \n",
       "\n",
       "   consumption_ratio nation_category  \n",
       "0           0.163663        exporter  \n",
       "1           0.709751        exporter  \n",
       "2           1.743301        importer  \n",
       "3           0.074646        exporter  \n",
       "4           1.061500        importer  "
      ]
     },
     "execution_count": 130,
     "metadata": {},
     "output_type": "execute_result"
    }
   ],
   "source": [
    "oil_trend_gni.head()"
   ]
  },
  {
   "cell_type": "markdown",
   "metadata": {},
   "source": [
    "##  Case- 2: Smoking trends among Men and Women, and how it relates to life expectancy."
   ]
  },
  {
   "cell_type": "markdown",
   "metadata": {},
   "source": [
    "Create the bins and label the data into world bank classes based on GNI per capita. <br>\n",
    "Cleaning up GNI per capita data and renaming the column."
   ]
  },
  {
   "cell_type": "code",
   "execution_count": 131,
   "metadata": {},
   "outputs": [],
   "source": [
    "# Bin and cut into classes\n",
    "gnipc_df = gnipc[['Country', '2005']] \n",
    "gnipc_df = gnipc_df.dropna() \n",
    "bin_edges = [0, 1005, 3955, 12235, 50000]\n",
    "bin_names = ['lower','lower_middle', 'upper_middle', 'higher']\n",
    "gnipc_df['wb_class'] = pd.cut(gnipc_df['2005'], bin_edges, labels=bin_names)"
   ]
  },
  {
   "cell_type": "code",
   "execution_count": 132,
   "metadata": {},
   "outputs": [],
   "source": [
    "# Renaming the year column to income_pc for later analysis\n",
    "gnipc_df.rename (columns={'2005': 'income_pc'}, inplace = True)"
   ]
  },
  {
   "cell_type": "markdown",
   "metadata": {},
   "source": [
    "Cleaning up Female smokers data and renaming the column for merging later."
   ]
  },
  {
   "cell_type": "code",
   "execution_count": 133,
   "metadata": {},
   "outputs": [],
   "source": [
    "# selecting year 2005\n",
    "smk_female_df = smk_female[['Country',2005]]\n",
    "\n",
    "#dropping null values\n",
    "smk_female_df = smk_female_df.dropna()\n",
    "\n",
    "#renaming for later analysis\n",
    "smk_female_df.rename (columns={2005: 'female_smoker'}, inplace = True)"
   ]
  },
  {
   "cell_type": "markdown",
   "metadata": {},
   "source": [
    "Cleaning up Male smokers data and renaming the column for merging later."
   ]
  },
  {
   "cell_type": "code",
   "execution_count": 134,
   "metadata": {},
   "outputs": [],
   "source": [
    "# selecting year 2005\n",
    "smk_male_df = smk_male[['Country',2005]]\n",
    "\n",
    "#dropping null values\n",
    "smk_male_df = smk_male_df.dropna()\n",
    "\n",
    "#renaming for later analysis\n",
    "smk_male_df.rename (columns={2005: 'male_smoker'}, inplace = True)"
   ]
  },
  {
   "cell_type": "markdown",
   "metadata": {},
   "source": [
    "Cleaning up Life expectancy data and renaming the column for merging later."
   ]
  },
  {
   "cell_type": "code",
   "execution_count": 135,
   "metadata": {},
   "outputs": [],
   "source": [
    "# selecting year 2005\n",
    "life_exp_df = life_exp[['Country',2005]]\n",
    "\n",
    "#dropping null values\n",
    "life_exp_df = life_exp_df.dropna()\n",
    "\n",
    "#renaming for later analysis\n",
    "life_exp_df.rename (columns={2005: 'life_expectancy'}, inplace = True)"
   ]
  },
  {
   "cell_type": "markdown",
   "metadata": {},
   "source": [
    "### Merging the data for charts"
   ]
  },
  {
   "cell_type": "code",
   "execution_count": 136,
   "metadata": {},
   "outputs": [
    {
     "data": {
      "text/html": [
       "<div>\n",
       "<style scoped>\n",
       "    .dataframe tbody tr th:only-of-type {\n",
       "        vertical-align: middle;\n",
       "    }\n",
       "\n",
       "    .dataframe tbody tr th {\n",
       "        vertical-align: top;\n",
       "    }\n",
       "\n",
       "    .dataframe thead th {\n",
       "        text-align: right;\n",
       "    }\n",
       "</style>\n",
       "<table border=\"1\" class=\"dataframe\">\n",
       "  <thead>\n",
       "    <tr style=\"text-align: right;\">\n",
       "      <th></th>\n",
       "      <th>Country</th>\n",
       "      <th>income_pc</th>\n",
       "      <th>wb_class</th>\n",
       "      <th>life_expectancy</th>\n",
       "      <th>female_smoker</th>\n",
       "      <th>male_smoker</th>\n",
       "    </tr>\n",
       "  </thead>\n",
       "  <tbody>\n",
       "    <tr>\n",
       "      <th>0</th>\n",
       "      <td>Andorra</td>\n",
       "      <td>40040.0</td>\n",
       "      <td>higher</td>\n",
       "      <td>84.3</td>\n",
       "      <td>29.2</td>\n",
       "      <td>36.5</td>\n",
       "    </tr>\n",
       "    <tr>\n",
       "      <th>1</th>\n",
       "      <td>Albania</td>\n",
       "      <td>2690.0</td>\n",
       "      <td>lower_middle</td>\n",
       "      <td>76.2</td>\n",
       "      <td>4.0</td>\n",
       "      <td>40.5</td>\n",
       "    </tr>\n",
       "    <tr>\n",
       "      <th>2</th>\n",
       "      <td>United Arab Emirates</td>\n",
       "      <td>38390.0</td>\n",
       "      <td>higher</td>\n",
       "      <td>75.2</td>\n",
       "      <td>2.6</td>\n",
       "      <td>26.1</td>\n",
       "    </tr>\n",
       "    <tr>\n",
       "      <th>3</th>\n",
       "      <td>Argentina</td>\n",
       "      <td>4990.0</td>\n",
       "      <td>upper_middle</td>\n",
       "      <td>75.3</td>\n",
       "      <td>25.4</td>\n",
       "      <td>34.6</td>\n",
       "    </tr>\n",
       "    <tr>\n",
       "      <th>4</th>\n",
       "      <td>Armenia</td>\n",
       "      <td>1520.0</td>\n",
       "      <td>lower_middle</td>\n",
       "      <td>71.8</td>\n",
       "      <td>3.7</td>\n",
       "      <td>55.1</td>\n",
       "    </tr>\n",
       "  </tbody>\n",
       "</table>\n",
       "</div>"
      ],
      "text/plain": [
       "                Country  income_pc      wb_class  life_expectancy  \\\n",
       "0               Andorra    40040.0        higher             84.3   \n",
       "1               Albania     2690.0  lower_middle             76.2   \n",
       "2  United Arab Emirates    38390.0        higher             75.2   \n",
       "3             Argentina     4990.0  upper_middle             75.3   \n",
       "4               Armenia     1520.0  lower_middle             71.8   \n",
       "\n",
       "   female_smoker  male_smoker  \n",
       "0           29.2         36.5  \n",
       "1            4.0         40.5  \n",
       "2            2.6         26.1  \n",
       "3           25.4         34.6  \n",
       "4            3.7         55.1  "
      ]
     },
     "execution_count": 136,
     "metadata": {},
     "output_type": "execute_result"
    }
   ],
   "source": [
    "smk_cmb = smk_female_df.merge(smk_male_df, how = 'inner', left_on = 'Country', right_on = 'Country')\n",
    "life_trend = life_exp_df.merge(smk_cmb, how = 'inner', left_on = 'Country', right_on = 'Country')\n",
    "life_trend_gni = gnipc_df.merge(life_trend,how = 'inner', left_on = 'Country', right_on = 'Country')\n",
    "life_trend_gni.head()"
   ]
  },
  {
   "cell_type": "markdown",
   "metadata": {},
   "source": [
    "### Creating masks for filtering data based on class (low and higher)"
   ]
  },
  {
   "cell_type": "code",
   "execution_count": 137,
   "metadata": {},
   "outputs": [],
   "source": [
    "# Creating mask (low)\n",
    "low= life_trend_gni.wb_class == 'lower'"
   ]
  },
  {
   "cell_type": "code",
   "execution_count": 138,
   "metadata": {},
   "outputs": [],
   "source": [
    "# Creating mask (higher)\n",
    "higher = life_trend_gni.wb_class == 'higher'"
   ]
  },
  {
   "cell_type": "markdown",
   "metadata": {},
   "source": [
    "Checking mean of life expectancy difference between lower class and higher class."
   ]
  },
  {
   "cell_type": "code",
   "execution_count": 139,
   "metadata": {
    "scrolled": true
   },
   "outputs": [
    {
     "data": {
      "text/plain": [
       "59.4"
      ]
     },
     "execution_count": 139,
     "metadata": {},
     "output_type": "execute_result"
    }
   ],
   "source": [
    "# Calculating mean using mask\n",
    "life_trend_gni.life_expectancy[low].mean()"
   ]
  },
  {
   "cell_type": "code",
   "execution_count": 160,
   "metadata": {
    "scrolled": true
   },
   "outputs": [
    {
     "data": {
      "text/plain": [
       "79.3037037037037"
      ]
     },
     "execution_count": 160,
     "metadata": {},
     "output_type": "execute_result"
    }
   ],
   "source": [
    "# Calculating mean using mask\n",
    "life_trend_gni.life_expectancy[higher].mean()"
   ]
  },
  {
   "cell_type": "markdown",
   "metadata": {},
   "source": [
    "<a id='eda'></a>\n",
    "# Exploratory Data Analysis\n",
    "\n",
    "### Research Question 1: Which Countries are highest producer, consumer and owner (proven reservoir) of oil and how these characteristic reflect on the Gross Net Income (gni)?"
   ]
  },
  {
   "cell_type": "markdown",
   "metadata": {
    "collapsed": true
   },
   "source": [
    "#### Let's begin with how raw merged data looks in terms of oil consumption\n"
   ]
  },
  {
   "cell_type": "code",
   "execution_count": 170,
   "metadata": {},
   "outputs": [
    {
     "data": {
      "image/png": "[encoded data removed]",
      "text/plain": [
       "<Figure size 1080x720 with 1 Axes>"
      ]
     },
     "metadata": {},
     "output_type": "display_data"
    }
   ],
   "source": [
    "sns.set_style(\"whitegrid\")\n",
    "\n",
    "ax = sns.barplot(x = \"Country\", y = 'oil_consume',data = oil_trend_gni )\n",
    "ax.set_xticklabels(ax.get_xticklabels(), rotation=90)\n",
    "ax.set_title ('Oil Consumption by countries',size = 12);\n",
    "sns.set(rc={'figure.figsize':(15,10)});"
   ]
  },
  {
   "cell_type": "markdown",
   "metadata": {},
   "source": [
    "As it's clear that there are many small contributor's. In order to reach conclusions on defined problem statement,I will focus on Top 15 for each category."
   ]
  },
  {
   "cell_type": "markdown",
   "metadata": {},
   "source": [
    "#### Top 15 oil consumer countries (oil_top_consumer)selected using .nlargest function"
   ]
  },
  {
   "cell_type": "code",
   "execution_count": 171,
   "metadata": {},
   "outputs": [],
   "source": [
    "# Sorting and limiting to top 15\n",
    "oil_top_consumer = oil_trend_gni.sort_values('oil_consume').nlargest(15,'oil_consume')"
   ]
  },
  {
   "cell_type": "code",
   "execution_count": 172,
   "metadata": {},
   "outputs": [
    {
     "data": {
      "image/png": "[encoded data removed]",
      "text/plain": [
       "<Figure size 1080x720 with 1 Axes>"
      ]
     },
     "metadata": {},
     "output_type": "display_data"
    }
   ],
   "source": [
    "# Plot the values on bar chart\n",
    "sns.set_style(\"whitegrid\")\n",
    "ax = sns.barplot(x = 'Country', y = 'oil_consume',data = oil_top_consumer );\n",
    "ax.set_xticklabels(ax.get_xticklabels(), rotation=90);\n",
    "ax.set_ylabel ('Consumption of Oil in MTOE')\n",
    "ax.set_xlabel ('Countries')\n",
    "ax.set_title(\"Top 15 Oil Consumer countries\", size = 12);\n",
    "sns.set(rc={'figure.figsize':(15,10)});"
   ]
  },
  {
   "cell_type": "markdown",
   "metadata": {},
   "source": [
    "*** \n",
    " Above chart clearly shows us that __US, China, India, Russia & Brazil__ are __top most oil consumers__ globally for year 2008.\n",
    "***"
   ]
  },
  {
   "cell_type": "markdown",
   "metadata": {},
   "source": [
    "### Top 15 oil producer countries (oil_top_producer)selected using .nlargest function"
   ]
  },
  {
   "cell_type": "code",
   "execution_count": 174,
   "metadata": {},
   "outputs": [],
   "source": [
    "# Sorting and limiting to top 15\n",
    "oil_top_producer = oil_trend_gni.sort_values('oil_production').nlargest(15,'oil_production')"
   ]
  },
  {
   "cell_type": "code",
   "execution_count": 175,
   "metadata": {},
   "outputs": [
    {
     "data": {
      "image/png": "[encoded data removed]",
      "text/plain": [
       "<Figure size 1080x720 with 1 Axes>"
      ]
     },
     "metadata": {},
     "output_type": "display_data"
    }
   ],
   "source": [
    "# Plot the values on bar chart\n",
    "sns.set_style(\"whitegrid\")\n",
    "\n",
    "ax = sns.barplot(x = \"Country\", y = 'oil_production',data = oil_top_producer)\n",
    "ax.set_xticklabels(ax.get_xticklabels(), rotation=90)\n",
    "ax.set_ylabel ('Production of Oil in MTOE')\n",
    "ax.set_xlabel ('Countries')\n",
    "ax.set_title(\"Top 15 Oil Producer countries\", size = 12)\n",
    "sns.set(rc={'figure.figsize':(15,10)});"
   ]
  },
  {
   "cell_type": "markdown",
   "metadata": {},
   "source": [
    "*** \n",
    "Contrary to previous chart, Top producers are not same as Top consumers. <br>\n",
    "__Saudi Arabia, Russia, US, Iran and China__ are __top most oil producers__ globally for year 2008.\n",
    "***"
   ]
  },
  {
   "cell_type": "markdown",
   "metadata": {},
   "source": [
    "### Top 15 Proven oil reservoir countries (oil_top_proven)selected using .nlargest function"
   ]
  },
  {
   "cell_type": "code",
   "execution_count": 176,
   "metadata": {},
   "outputs": [],
   "source": [
    "# Sorting and limiting to top 15\n",
    "oil_top_proven = oil_trend_gni.sort_values('oil_proven').nlargest(15,'oil_proven')"
   ]
  },
  {
   "cell_type": "code",
   "execution_count": 177,
   "metadata": {},
   "outputs": [
    {
     "data": {
      "image/png": "[encoded data removed]",
      "text/plain": [
       "<Figure size 1080x720 with 1 Axes>"
      ]
     },
     "metadata": {},
     "output_type": "display_data"
    }
   ],
   "source": [
    "# Plot the values on bar chart\n",
    "sns.set_style(\"whitegrid\")\n",
    "ax = sns.barplot(x = \"Country\", y= 'oil_proven',data = oil_top_proven)\n",
    "ax.set_xticklabels(ax.get_xticklabels(), rotation=90)\n",
    "ax.set_ylabel ('Proven Oil Reservoir in MTOE')\n",
    "ax.set_xlabel ('Countries')\n",
    "ax.set_title(\"Top 15 Proven Oil Reservoir countries\", size = 12)\n",
    "sns.set(rc={'figure.figsize':(15,10)});"
   ]
  },
  {
   "cell_type": "markdown",
   "metadata": {},
   "source": [
    "*** \n",
    "This chart shows us coutries with biggest proven reservoirs, however not all of them are biggest producers when compared to previous chart. <br>\n",
    "__Saudi Arabia & Iran__ are the only 2 in Top 5 that are common countries.<br>\n",
    "Rest __Kuwait, Venenzuela and UAE__ are among __top most proven oil reservoirs__ globally for year 2008.<br>\n",
    "\n",
    "***"
   ]
  },
  {
   "cell_type": "markdown",
   "metadata": {},
   "source": [
    "#### Exploring further relationships among factors"
   ]
  },
  {
   "cell_type": "markdown",
   "metadata": {},
   "source": [
    "Quick view of chart shows that we have outliers on x-axis (with a very big proven reservior), and y-axis (low proven reservoir but high consumption). "
   ]
  },
  {
   "cell_type": "code",
   "execution_count": 179,
   "metadata": {},
   "outputs": [
    {
     "data": {
      "image/png": "[encoded data removed]",
      "text/plain": [
       "<Figure size 1080x720 with 1 Axes>"
      ]
     },
     "metadata": {},
     "output_type": "display_data"
    }
   ],
   "source": [
    "# Quick view scatter plot\n",
    "oil_trend_gni.plot(y = 'consumption_ratio', x = 'oil_production', kind= 'scatter')\n",
    "plt.title (\"Oil Production vs Consumption ratio\");"
   ]
  },
  {
   "cell_type": "markdown",
   "metadata": {},
   "source": [
    "In order to deal with this outlier, I filtered the df with multiple conditions.\n",
    "Similar result can be obtained with xlim, ylim but I want to use the same data in further analysis. Hence filter is created."
   ]
  },
  {
   "cell_type": "markdown",
   "metadata": {},
   "source": [
    "#### Filter created to avoid plotting outliers"
   ]
  },
  {
   "cell_type": "code",
   "execution_count": 181,
   "metadata": {},
   "outputs": [],
   "source": [
    "#Filter applied\n",
    "oil_trend_gni_filtered = oil_trend_gni[(oil_trend_gni['consumption_ratio'] <4) & (oil_trend_gni['gni_oil'] <400000)]"
   ]
  },
  {
   "cell_type": "markdown",
   "metadata": {},
   "source": [
    "Scatter chart after filter applied, now the spread appears to be better for analysis."
   ]
  },
  {
   "cell_type": "code",
   "execution_count": 182,
   "metadata": {
    "scrolled": false
   },
   "outputs": [
    {
     "data": {
      "image/png": "[encoded data removed]",
      "text/plain": [
       "<Figure size 1080x720 with 1 Axes>"
      ]
     },
     "metadata": {},
     "output_type": "display_data"
    }
   ],
   "source": [
    "# Scatter plot\n",
    "sns.set_style(\"darkgrid\")\n",
    "oil_trend_gni_filtered.plot(x = 'consumption_ratio', y = 'oil_production', \n",
    "                            kind= 'scatter',title = \"Oil Production vs Consumption ratio\");"
   ]
  },
  {
   "cell_type": "markdown",
   "metadata": {},
   "source": [
    "***\n",
    "This is simple graphical representation of countries behavior with regards to Consumption ratio and production. <br>\n",
    "It is clear that with similar oil production levels, the consumption ratio is varying across countries. <br>\n",
    "***"
   ]
  },
  {
   "cell_type": "markdown",
   "metadata": {},
   "source": [
    "####  To analyze the behaviour of Nation's Gross Income based on their consumption."
   ]
  },
  {
   "cell_type": "code",
   "execution_count": 199,
   "metadata": {
    "scrolled": true
   },
   "outputs": [
    {
     "data": {
      "image/png": "[encoded data removed]",
      "text/plain": [
       "<Figure size 720x360 with 2 Axes>"
      ]
     },
     "metadata": {},
     "output_type": "display_data"
    }
   ],
   "source": [
    "p = sns.lmplot (y= \"gni_oil\", x = \"oil_consume\", data = oil_trend_gni_filtered,\n",
    "            hue=\"nation_category\",col =\"nation_category\")\n",
    "sns.set(rc={'figure.figsize':(15,10)})\n",
    "# Additional line to adjust some appearance issue\n",
    "plt.subplots_adjust(top=.85)\n",
    "p.fig.suptitle(\"Oil Consumption vs Gross net Income by Nation Category\", fontsize = 20)\n",
    "p.set_xlabels(\"Oil consumption in MTOE\",size = 15)\n",
    "p.set_ylabels(\"Gross Net Income in m$\",size = 15);"
   ]
  },
  {
   "cell_type": "markdown",
   "metadata": {},
   "source": [
    "#### From 2 charts above, below are the observations:\n",
    "   > Number of exporters are more than importers <br>\n",
    "     Slope for Importers GNI is higher than exporters. <br>\n",
    "     Since the countries are importing and consuming heavily, indicates that the infrastructure is developed and contributing to higher GNI.(Limitation: Need more supporting data to demostrate the relationship)<br> \n",
    "     Majority of exporting nation has lower GNI and consumption concurrently, indicating they are relying on exports in other sectors from different countries. (Limitation: Need more supporting data to demostrate the relationship)\n"
   ]
  },
  {
   "cell_type": "markdown",
   "metadata": {},
   "source": [
    "### Research Question 2 : Smoking trends among Men and Women, how it relates to life expectancy and how these parameters vary with different class in society?"
   ]
  },
  {
   "cell_type": "markdown",
   "metadata": {},
   "source": [
    "### Firstly let's compare the smoking trend among men and women "
   ]
  },
  {
   "cell_type": "code",
   "execution_count": 61,
   "metadata": {},
   "outputs": [
    {
     "data": {
      "image/png": "[encoded data removed]",
      "text/plain": [
       "<Figure size 842.4x595.44 with 1 Axes>"
      ]
     },
     "metadata": {},
     "output_type": "display_data"
    }
   ],
   "source": [
    "# Plotting the data\n",
    "ax= sns.regplot(x= \"male_smoker\", y = \"female_smoker\", data = life_trend_gni)\n",
    "ax.set_title(\"Male vs Female smokers\", size = 12);"
   ]
  },
  {
   "cell_type": "markdown",
   "metadata": {},
   "source": [
    "***\n",
    "Above chart indicates higher percentage of male smokers compared to the female smokers globally. In next few charts, more details will be explored.\n",
    "***"
   ]
  },
  {
   "cell_type": "markdown",
   "metadata": {},
   "source": [
    "Next, let's explore how the smoking patterns vary among different class of society"
   ]
  },
  {
   "cell_type": "code",
   "execution_count": 201,
   "metadata": {},
   "outputs": [
    {
     "data": {
      "image/png": "[encoded data removed]",
      "text/plain": [
       "<Figure size 720x720 with 4 Axes>"
      ]
     },
     "metadata": {},
     "output_type": "display_data"
    }
   ],
   "source": [
    "# Plot the split with class in society\n",
    "p= sns.lmplot(x= \"male_smoker\", y = \"female_smoker\", data = life_trend_gni,\n",
    "            hue=\"wb_class\",col =\"wb_class\",col_wrap=2)\n",
    "sns.set(rc={'figure.figsize':(15,10)})\n",
    "# Additional line to adjust some appearance issue\n",
    "plt.subplots_adjust(top=.85)\n",
    "p.fig.suptitle(\"Female smokers vs Male smokers by Class\", fontsize = 20)\n",
    "p.set_xlabels(\"% of Male Smokers\",size = 15)\n",
    "p.set_ylabels(\"% of Female Smokers\",size = 15);"
   ]
  },
  {
   "cell_type": "markdown",
   "metadata": {},
   "source": [
    "***\n",
    "#### Below are the observations:\n",
    "   > i.Female in lower class smoke less in most of the countries <br>\n",
    "    ii. In lower_middle class distribution starts to spread out and % of male smokers increase significantly<br>\n",
    "    iii. In upper middle women are smoking above average, and men are smoking slightly less than lower_middle.<br>\n",
    "    iv. Female in higer class smoke in most of countries, men on other hand have sligtely less % of smokers compared to all other classes.\n",
    "***"
   ]
  },
  {
   "cell_type": "markdown",
   "metadata": {},
   "source": [
    "To visualize other correlations, let's utlize pairplots"
   ]
  },
  {
   "cell_type": "code",
   "execution_count": 63,
   "metadata": {},
   "outputs": [
    {
     "data": {
      "image/png": "[encoded data removed]",
      "text/plain": [
       "<Figure size 816.75x720 with 20 Axes>"
      ]
     },
     "metadata": {},
     "output_type": "display_data"
    }
   ],
   "source": [
    "# Pair plots\n",
    "sns.set(style=\"ticks\")\n",
    "\n",
    "sns.pairplot(life_trend_gni, hue=\"wb_class\");"
   ]
  },
  {
   "cell_type": "markdown",
   "metadata": {},
   "source": [
    "***\n",
    "#### Observations from Pairplots:\n",
    "   > i. Income distribution among classes is right skewed, mostly comprising of lower and lower_middle on left end.<br>\n",
    "     ii. Life expectancy among lower, lower_middle and upper_middle doesn't vary too much.<br>\n",
    "     iii.Lower and middle class females tend to smoke less generally (cluster on left lower end), whereas female from higher class and high income smoke in most of the cases.<br>\n",
    "     iv.Most of male smokers are from lower and middle section of society <br>\n",
    "     v. Life expectency is non linear to smoking percentages (make and female) \n",
    " ***"
   ]
  },
  {
   "cell_type": "markdown",
   "metadata": {},
   "source": [
    "Lastly, let's explore the data for certain class utilizing the masks created in previous section."
   ]
  },
  {
   "cell_type": "code",
   "execution_count": 64,
   "metadata": {
    "scrolled": true
   },
   "outputs": [
    {
     "data": {
      "image/png": "[encoded data removed]",
      "text/plain": [
       "<Figure size 864x576 with 1 Axes>"
      ]
     },
     "metadata": {},
     "output_type": "display_data"
    }
   ],
   "source": [
    "# Histogram using masks\n",
    "life_trend_gni.life_expectancy[low].hist(label = 'low', alpha = 0.5, bins = 10, figsize = (12,8))\n",
    "life_trend_gni.life_expectancy[higher].hist(label = 'high', alpha = 0.5, bins = 10, figsize = (12,8))\n",
    "plt.xlabel('Age in Years')\n",
    "plt.ylabel('Number of Countries')\n",
    "plt.title('Life Expectancy (Age) Distribution between Upper Class and Lower Class')\n",
    "plt.legend( );"
   ]
  },
  {
   "cell_type": "markdown",
   "metadata": {},
   "source": [
    "***\n",
    "#### Observations from Histogram:\n",
    "   > i. There is a clear relation between income and life expectancy <br>\n",
    "     ii. People with higher income (green) outlize the people with lowest income (blue) by average 20 years (mean calculated earlier).\n",
    " ***"
   ]
  },
  {
   "cell_type": "markdown",
   "metadata": {},
   "source": [
    "<a id='conclusions'></a>\n",
    "## Conclusions\n",
    "\n",
    "Based on questions set in begining and analysis performed, below is my conclusion for each case.\n",
    "\n",
    "__Case-1: Oil Economics__ \n",
    " > I found that the Nations with largest proven reservoirs are not always the one producing most. There could be several social/political/economical reasons for that, which were not covered as part of this analysis. <br>\n",
    " > Similarly breaking the nations down into importer and exporter categories (based on consumption ratio) helps to understand the dynamics but need more data to establisht the facts. <br>\n",
    " \n",
    " __Case-2: Smoking Behaviours__\n",
    " > With limited amount of data, I managed to explore the relationships among different sections of society as intended.\n",
    " > One of the area not explored was correlating the findings to job sectors and working population for each country on top of sections of society.\n",
    " > Using binning and cut function was instrumental in this analysis.\n",
    "\n",
    "\n",
    "### Limitations\n",
    "1. Inconsistency in data availability, for some datasets data was starting from 1965 and while others it was only limited to 3 years. <br>\n",
    "2. During merging, had to make a choice either to have a lot of null values (Right/Left/Outer Join)or just go with Inner join (which I opted for) to get clean data. With this approach I had to sacrifice some of countries data."
   ]
  },
  {
   "cell_type": "code",
   "execution_count": 65,
   "metadata": {
    "scrolled": true
   },
   "outputs": [
    {
     "data": {
      "text/plain": [
       "0"
      ]
     },
     "execution_count": 65,
     "metadata": {},
     "output_type": "execute_result"
    }
   ],
   "source": [
    "from subprocess import call\n",
    "call(['python', '-m', 'nbconvert', 'investigate-a-dataset-Gapminder_V3.ipynb'])"
   ]
  }
 ],
 "metadata": {
  "kernelspec": {
   "display_name": "Python [default]",
   "language": "python",
   "name": "python3"
  },
  "language_info": {
   "codemirror_mode": {
    "name": "ipython",
    "version": 3
   },
   "file_extension": ".py",
   "mimetype": "text/x-python",
   "name": "python",
   "nbconvert_exporter": "python",
   "pygments_lexer": "ipython3",
   "version": "3.6.5"
  }
 },
 "nbformat": 4,
 "nbformat_minor": 2
}
